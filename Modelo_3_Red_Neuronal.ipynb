{
  "cells": [
    {
      "cell_type": "markdown",
      "metadata": {
        "id": "view-in-github",
        "colab_type": "text"
      },
      "source": [
        "<a href=\"https://colab.research.google.com/github/LuViBeBe93/tesis/blob/main/Modelo_3_Red_Neuronal.ipynb\" target=\"_parent\"><img src=\"https://colab.research.google.com/assets/colab-badge.svg\" alt=\"Open In Colab\"/></a>"
      ]
    },
    {
      "cell_type": "markdown",
      "metadata": {
        "id": "tq0Q-fjpihF3"
      },
      "source": [
        "# **Generación de texto**"
      ]
    },
    {
      "cell_type": "markdown",
      "metadata": {
        "id": "tCrylGPaA8JK"
      },
      "source": [
        "# **Red Neuronal Recurrente**"
      ]
    },
    {
      "cell_type": "markdown",
      "metadata": {
        "id": "aLUI6yFbiqdr"
      },
      "source": [
        "En este avance se buscar entrenar una red neuronal recurrente para generar texto, carácter a carácter."
      ]
    },
    {
      "cell_type": "code",
      "execution_count": 1,
      "metadata": {
        "colab": {
          "base_uri": "https://localhost:8080/"
        },
        "id": "olEQiz1W-sha",
        "outputId": "708b8aab-72f5-4974-89a3-582f3b2b3c0d"
      },
      "outputs": [
        {
          "output_type": "stream",
          "name": "stdout",
          "text": [
            "Requirement already satisfied: chardet in /usr/local/lib/python3.10/dist-packages (5.2.0)\n"
          ]
        }
      ],
      "source": [
        "!pip install chardet"
      ]
    },
    {
      "cell_type": "code",
      "execution_count": 2,
      "metadata": {
        "id": "-P23xV65-wBg"
      },
      "outputs": [],
      "source": [
        "debug = False\n",
        "debug2 = False"
      ]
    },
    {
      "cell_type": "code",
      "execution_count": 3,
      "metadata": {
        "colab": {
          "base_uri": "https://localhost:8080/"
        },
        "id": "nIYgTVnC-z6k",
        "outputId": "c66d7b03-bf87-49cd-c607-dcb0a77c81a2"
      },
      "outputs": [
        {
          "output_type": "execute_result",
          "data": {
            "text/plain": [
              "device(type='cpu')"
            ]
          },
          "metadata": {},
          "execution_count": 3
        }
      ],
      "source": [
        "import numpy as np\n",
        "import pandas as pd\n",
        "import os\n",
        "from sklearn.metrics import mean_squared_error\n",
        "from sklearn.model_selection import StratifiedKFold\n",
        "import torch\n",
        "import torch.nn as nn\n",
        "from torch.utils.data import DataLoader, Dataset\n",
        "from tqdm import tqdm\n",
        "import matplotlib.pyplot as plt\n",
        "import transformers\n",
        "from transformers import AutoTokenizer, AutoModelForSequenceClassification\n",
        "import random\n",
        "import chardet\n",
        "import warnings\n",
        "warnings.simplefilter('ignore')\n",
        "scaler = torch.cuda.amp.GradScaler()\n",
        "device = torch.device('cuda' if torch.cuda.is_available() else 'cpu')\n",
        "device"
      ]
    },
    {
      "cell_type": "code",
      "execution_count": 4,
      "metadata": {
        "id": "ECbDEpaO-4gF"
      },
      "outputs": [],
      "source": [
        "def random_seed(SEED):\n",
        "\n",
        "    random.seed(SEED)\n",
        "    os.environ['PYTHONHASHSEED'] = str(SEED)\n",
        "    np.random.seed(SEED)\n",
        "    torch.manual_seed(SEED)\n",
        "    torch.cuda.manual_seed(SEED)\n",
        "    torch.cuda.manual_seed_all(SEED)\n",
        "    torch.backends.cudnn.deterministic = True\n",
        "\n",
        "SEED = 508\n",
        "random_seed(SEED)"
      ]
    },
    {
      "cell_type": "code",
      "execution_count": 5,
      "metadata": {
        "colab": {
          "base_uri": "https://localhost:8080/",
          "height": 93
        },
        "id": "6rlSMjri-7dx",
        "outputId": "ec590684-4fcd-4ace-db5b-d4c16b4f0050"
      },
      "outputs": [
        {
          "output_type": "display_data",
          "data": {
            "text/plain": [
              "<IPython.core.display.HTML object>"
            ],
            "text/html": [
              "\n",
              "     <input type=\"file\" id=\"files-6ad8f0b5-e82c-4618-96af-9cb49e845359\" name=\"files[]\" multiple disabled\n",
              "        style=\"border:none\" />\n",
              "     <output id=\"result-6ad8f0b5-e82c-4618-96af-9cb49e845359\">\n",
              "      Upload widget is only available when the cell has been executed in the\n",
              "      current browser session. Please rerun this cell to enable.\n",
              "      </output>\n",
              "      <script>// Copyright 2017 Google LLC\n",
              "//\n",
              "// Licensed under the Apache License, Version 2.0 (the \"License\");\n",
              "// you may not use this file except in compliance with the License.\n",
              "// You may obtain a copy of the License at\n",
              "//\n",
              "//      http://www.apache.org/licenses/LICENSE-2.0\n",
              "//\n",
              "// Unless required by applicable law or agreed to in writing, software\n",
              "// distributed under the License is distributed on an \"AS IS\" BASIS,\n",
              "// WITHOUT WARRANTIES OR CONDITIONS OF ANY KIND, either express or implied.\n",
              "// See the License for the specific language governing permissions and\n",
              "// limitations under the License.\n",
              "\n",
              "/**\n",
              " * @fileoverview Helpers for google.colab Python module.\n",
              " */\n",
              "(function(scope) {\n",
              "function span(text, styleAttributes = {}) {\n",
              "  const element = document.createElement('span');\n",
              "  element.textContent = text;\n",
              "  for (const key of Object.keys(styleAttributes)) {\n",
              "    element.style[key] = styleAttributes[key];\n",
              "  }\n",
              "  return element;\n",
              "}\n",
              "\n",
              "// Max number of bytes which will be uploaded at a time.\n",
              "const MAX_PAYLOAD_SIZE = 100 * 1024;\n",
              "\n",
              "function _uploadFiles(inputId, outputId) {\n",
              "  const steps = uploadFilesStep(inputId, outputId);\n",
              "  const outputElement = document.getElementById(outputId);\n",
              "  // Cache steps on the outputElement to make it available for the next call\n",
              "  // to uploadFilesContinue from Python.\n",
              "  outputElement.steps = steps;\n",
              "\n",
              "  return _uploadFilesContinue(outputId);\n",
              "}\n",
              "\n",
              "// This is roughly an async generator (not supported in the browser yet),\n",
              "// where there are multiple asynchronous steps and the Python side is going\n",
              "// to poll for completion of each step.\n",
              "// This uses a Promise to block the python side on completion of each step,\n",
              "// then passes the result of the previous step as the input to the next step.\n",
              "function _uploadFilesContinue(outputId) {\n",
              "  const outputElement = document.getElementById(outputId);\n",
              "  const steps = outputElement.steps;\n",
              "\n",
              "  const next = steps.next(outputElement.lastPromiseValue);\n",
              "  return Promise.resolve(next.value.promise).then((value) => {\n",
              "    // Cache the last promise value to make it available to the next\n",
              "    // step of the generator.\n",
              "    outputElement.lastPromiseValue = value;\n",
              "    return next.value.response;\n",
              "  });\n",
              "}\n",
              "\n",
              "/**\n",
              " * Generator function which is called between each async step of the upload\n",
              " * process.\n",
              " * @param {string} inputId Element ID of the input file picker element.\n",
              " * @param {string} outputId Element ID of the output display.\n",
              " * @return {!Iterable<!Object>} Iterable of next steps.\n",
              " */\n",
              "function* uploadFilesStep(inputId, outputId) {\n",
              "  const inputElement = document.getElementById(inputId);\n",
              "  inputElement.disabled = false;\n",
              "\n",
              "  const outputElement = document.getElementById(outputId);\n",
              "  outputElement.innerHTML = '';\n",
              "\n",
              "  const pickedPromise = new Promise((resolve) => {\n",
              "    inputElement.addEventListener('change', (e) => {\n",
              "      resolve(e.target.files);\n",
              "    });\n",
              "  });\n",
              "\n",
              "  const cancel = document.createElement('button');\n",
              "  inputElement.parentElement.appendChild(cancel);\n",
              "  cancel.textContent = 'Cancel upload';\n",
              "  const cancelPromise = new Promise((resolve) => {\n",
              "    cancel.onclick = () => {\n",
              "      resolve(null);\n",
              "    };\n",
              "  });\n",
              "\n",
              "  // Wait for the user to pick the files.\n",
              "  const files = yield {\n",
              "    promise: Promise.race([pickedPromise, cancelPromise]),\n",
              "    response: {\n",
              "      action: 'starting',\n",
              "    }\n",
              "  };\n",
              "\n",
              "  cancel.remove();\n",
              "\n",
              "  // Disable the input element since further picks are not allowed.\n",
              "  inputElement.disabled = true;\n",
              "\n",
              "  if (!files) {\n",
              "    return {\n",
              "      response: {\n",
              "        action: 'complete',\n",
              "      }\n",
              "    };\n",
              "  }\n",
              "\n",
              "  for (const file of files) {\n",
              "    const li = document.createElement('li');\n",
              "    li.append(span(file.name, {fontWeight: 'bold'}));\n",
              "    li.append(span(\n",
              "        `(${file.type || 'n/a'}) - ${file.size} bytes, ` +\n",
              "        `last modified: ${\n",
              "            file.lastModifiedDate ? file.lastModifiedDate.toLocaleDateString() :\n",
              "                                    'n/a'} - `));\n",
              "    const percent = span('0% done');\n",
              "    li.appendChild(percent);\n",
              "\n",
              "    outputElement.appendChild(li);\n",
              "\n",
              "    const fileDataPromise = new Promise((resolve) => {\n",
              "      const reader = new FileReader();\n",
              "      reader.onload = (e) => {\n",
              "        resolve(e.target.result);\n",
              "      };\n",
              "      reader.readAsArrayBuffer(file);\n",
              "    });\n",
              "    // Wait for the data to be ready.\n",
              "    let fileData = yield {\n",
              "      promise: fileDataPromise,\n",
              "      response: {\n",
              "        action: 'continue',\n",
              "      }\n",
              "    };\n",
              "\n",
              "    // Use a chunked sending to avoid message size limits. See b/62115660.\n",
              "    let position = 0;\n",
              "    do {\n",
              "      const length = Math.min(fileData.byteLength - position, MAX_PAYLOAD_SIZE);\n",
              "      const chunk = new Uint8Array(fileData, position, length);\n",
              "      position += length;\n",
              "\n",
              "      const base64 = btoa(String.fromCharCode.apply(null, chunk));\n",
              "      yield {\n",
              "        response: {\n",
              "          action: 'append',\n",
              "          file: file.name,\n",
              "          data: base64,\n",
              "        },\n",
              "      };\n",
              "\n",
              "      let percentDone = fileData.byteLength === 0 ?\n",
              "          100 :\n",
              "          Math.round((position / fileData.byteLength) * 100);\n",
              "      percent.textContent = `${percentDone}% done`;\n",
              "\n",
              "    } while (position < fileData.byteLength);\n",
              "  }\n",
              "\n",
              "  // All done.\n",
              "  yield {\n",
              "    response: {\n",
              "      action: 'complete',\n",
              "    }\n",
              "  };\n",
              "}\n",
              "\n",
              "scope.google = scope.google || {};\n",
              "scope.google.colab = scope.google.colab || {};\n",
              "scope.google.colab._files = {\n",
              "  _uploadFiles,\n",
              "  _uploadFilesContinue,\n",
              "};\n",
              "})(self);\n",
              "</script> "
            ]
          },
          "metadata": {}
        },
        {
          "output_type": "stream",
          "name": "stdout",
          "text": [
            "Saving df_total.csv to df_total.csv\n"
          ]
        }
      ],
      "source": [
        "from google.colab import drive\n",
        "import pandas as pd\n",
        "from google.colab import drive\n",
        "import shutil\n",
        "from google.colab import drive\n",
        "#import nltk\n",
        "\n",
        "#Aquí seleccionamos el archivo desde nuestro equipo.\n",
        "\n",
        "from google.colab import files\n",
        "uploaded = files.upload()"
      ]
    },
    {
      "cell_type": "code",
      "execution_count": 6,
      "metadata": {
        "id": "n4qr4UyP_CVc"
      },
      "outputs": [],
      "source": [
        "data0=pd.read_csv('df_total.csv')"
      ]
    },
    {
      "cell_type": "code",
      "execution_count": null,
      "metadata": {
        "id": "5hfTNEn2_GLi"
      },
      "outputs": [],
      "source": [
        "df = data0.loc[data0[\"Type\"]==\"Macroeconomia\"]"
      ]
    },
    {
      "cell_type": "code",
      "execution_count": null,
      "metadata": {
        "id": "fpwCcWIDix-x"
      },
      "outputs": [],
      "source": [
        "df = df.news[0:50]"
      ]
    },
    {
      "cell_type": "code",
      "execution_count": null,
      "metadata": {
        "id": "MzkHY5ZO_I2S"
      },
      "outputs": [],
      "source": [
        "df = df.to_csv(\"data_export.txt\", sep=\"\\t\", index=False)"
      ]
    },
    {
      "cell_type": "code",
      "execution_count": null,
      "metadata": {
        "colab": {
          "base_uri": "https://localhost:8080/"
        },
        "id": "LaSlCc3kkqxe",
        "outputId": "ab185a63-250c-405b-e122-f67c13518957"
      },
      "outputs": [
        {
          "output_type": "execute_result",
          "data": {
            "text/plain": [
              "('news\\nCon el dato de marzo el IPC interanual encadena su decimoquinta tasa positiva consecutiva. La inflación publicada por el INE se ha mantenido igual respecto al avance del 30 de marzo y se sitúa 22 puntos por encima del dato de febrero que ascendió al 76.De esos 22 puntos de diferencia la mayor p',\n",
              " 157300)"
            ]
          },
          "metadata": {},
          "execution_count": 10
        }
      ],
      "source": [
        "f = open(\"data_export.txt\", \"r\", encoding='utf-8')\n",
        "text = f.read()\n",
        "text[:300], len(text)"
      ]
    },
    {
      "cell_type": "markdown",
      "metadata": {
        "id": "v6aIGwmck5oZ"
      },
      "source": [
        "Tokenización"
      ]
    },
    {
      "cell_type": "code",
      "execution_count": null,
      "metadata": {
        "colab": {
          "base_uri": "https://localhost:8080/",
          "height": 35
        },
        "id": "mg8coLl8k10q",
        "outputId": "4647c83a-a47d-4fd9-a3d9-b5e2c2dfc2a2"
      },
      "outputs": [
        {
          "output_type": "execute_result",
          "data": {
            "text/plain": [
              "'0123456789abcdefghijklmnopqrstuvwxyzABCDEFGHIJKLMNOPQRSTUVWXYZ!\"#$%&\\'()*+,-./:;<=>?@[\\\\]^_`{|}~ \\t\\n\\r\\x0b\\x0cñÑáÁéÉíÍóÓúÚ¿¡'"
            ],
            "application/vnd.google.colaboratory.intrinsic+json": {
              "type": "string"
            }
          },
          "metadata": {},
          "execution_count": 11
        }
      ],
      "source": [
        "import string\n",
        "\n",
        "all_characters = string.printable + \"ñÑáÁéÉíÍóÓúÚ¿¡\"\n",
        "all_characters"
      ]
    },
    {
      "cell_type": "code",
      "execution_count": null,
      "metadata": {
        "colab": {
          "base_uri": "https://localhost:8080/"
        },
        "id": "Ec0JTOmplDrW",
        "outputId": "922ad417-3a35-4430-b294-052e8ba67ae4"
      },
      "outputs": [
        {
          "output_type": "execute_result",
          "data": {
            "text/plain": [
              "114"
            ]
          },
          "metadata": {},
          "execution_count": 12
        }
      ],
      "source": [
        "import string\n",
        "\n",
        "class Tokenizer():\n",
        "\n",
        "  def __init__(self):\n",
        "    self.all_characters = all_characters\n",
        "    self.n_characters = len(self.all_characters)\n",
        "\n",
        "  def text_to_seq(self, string):\n",
        "    seq = []\n",
        "    for c in range(len(string)):\n",
        "        try:\n",
        "            seq.append(self.all_characters.index(string[c]))\n",
        "        except:\n",
        "            continue\n",
        "    return seq\n",
        "\n",
        "  def seq_to_text(self, seq):\n",
        "    text = ''\n",
        "    for c in range(len(seq)):\n",
        "        text += self.all_characters[seq[c]]\n",
        "    return text\n",
        "\n",
        "tokenizer = Tokenizer()\n",
        "tokenizer.n_characters"
      ]
    },
    {
      "cell_type": "markdown",
      "metadata": {
        "id": "89pbKF9glatl"
      },
      "source": [
        "Ahora podemos tokenizar todo el texto."
      ]
    },
    {
      "cell_type": "code",
      "execution_count": null,
      "metadata": {
        "id": "6oG7W0ldlDEO"
      },
      "outputs": [],
      "source": [
        "text_encoded = tokenizer.text_to_seq(text)"
      ]
    },
    {
      "cell_type": "markdown",
      "metadata": {
        "id": "BLb82sKAljK-"
      },
      "source": [
        "El Dataset"
      ]
    },
    {
      "cell_type": "code",
      "execution_count": null,
      "metadata": {
        "colab": {
          "base_uri": "https://localhost:8080/"
        },
        "id": "xM38BRGkljpv",
        "outputId": "a1b64c0d-5bd4-4b46-fc80-a2518bc6ab7d"
      },
      "outputs": [
        {
          "output_type": "execute_result",
          "data": {
            "text/plain": [
              "(125839, 31460)"
            ]
          },
          "metadata": {},
          "execution_count": 14
        }
      ],
      "source": [
        "train_size = len(text_encoded) * 80 // 100\n",
        "train = text_encoded[:train_size]\n",
        "test = text_encoded[train_size:]\n",
        "\n",
        "len(train), len(test)"
      ]
    },
    {
      "cell_type": "markdown",
      "metadata": {
        "id": "49W1fmCCls0q"
      },
      "source": [
        "Para entrenar nuestra red, vamos a necesitar secuencias de texto de una longitud determinada. Podemos generar estas ventanas con la siguiente función"
      ]
    },
    {
      "cell_type": "code",
      "execution_count": null,
      "metadata": {
        "id": "xUKCwTeJltvf"
      },
      "outputs": [],
      "source": [
        "import random\n",
        "\n",
        "def windows(text, window_size = 100):\n",
        "    start_index = 0\n",
        "    end_index = len(text) - window_size\n",
        "    text_windows = []\n",
        "    while start_index < end_index:\n",
        "      text_windows.append(text[start_index:start_index+window_size+1])\n",
        "      start_index += 1\n",
        "    return text_windows\n",
        "\n",
        "text_encoded_windows = windows(text_encoded)"
      ]
    },
    {
      "cell_type": "markdown",
      "metadata": {
        "id": "ZFWdD3dnl8hF"
      },
      "source": [
        "Ejemplo de las ventanas con las que trabajará el modelo"
      ]
    },
    {
      "cell_type": "code",
      "execution_count": null,
      "metadata": {
        "colab": {
          "base_uri": "https://localhost:8080/"
        },
        "id": "GsUSZ3edmAGj",
        "outputId": "1139e5f2-0a20-4ecd-ff69-177ac5159d7c"
      },
      "outputs": [
        {
          "output_type": "stream",
          "name": "stdout",
          "text": [
            "news\n",
            "Con el dato de marzo el IPC interanual encadena su decimoquinta tasa positiva consecutiva. La in\n",
            "\n",
            "ews\n",
            "Con el dato de marzo el IPC interanual encadena su decimoquinta tasa positiva consecutiva. La inf\n",
            "\n",
            "ws\n",
            "Con el dato de marzo el IPC interanual encadena su decimoquinta tasa positiva consecutiva. La infl\n"
          ]
        }
      ],
      "source": [
        "print(tokenizer.seq_to_text((text_encoded_windows[0])))\n",
        "print()\n",
        "print(tokenizer.seq_to_text((text_encoded_windows[1])))\n",
        "print()\n",
        "print(tokenizer.seq_to_text((text_encoded_windows[2])))"
      ]
    },
    {
      "cell_type": "code",
      "execution_count": null,
      "metadata": {
        "id": "ZSCE5rsjmFJ-"
      },
      "outputs": [],
      "source": [
        "import torch\n",
        "\n",
        "class CharRNNDataset(torch.utils.data.Dataset):\n",
        "  def __init__(self, text_encoded_windows, train=True):\n",
        "    self.text = text_encoded_windows\n",
        "    self.train = train\n",
        "\n",
        "  def __len__(self):\n",
        "    return len(self.text)\n",
        "\n",
        "  def __getitem__(self, ix):\n",
        "    if self.train:\n",
        "      return torch.tensor(self.text[ix][:-1]), torch.tensor(self.text[ix][-1])\n",
        "    return torch.tensor(self.text[ix])"
      ]
    },
    {
      "cell_type": "code",
      "execution_count": null,
      "metadata": {
        "colab": {
          "base_uri": "https://localhost:8080/"
        },
        "id": "vNqnQawEmUx7",
        "outputId": "2740c827-791c-4c6c-ba2f-3737266683b9"
      },
      "outputs": [
        {
          "output_type": "execute_result",
          "data": {
            "text/plain": [
              "(125739, 31360)"
            ]
          },
          "metadata": {},
          "execution_count": 18
        }
      ],
      "source": [
        "train_text_encoded_windows = windows(train)\n",
        "test_text_encoded_windows = windows(test)\n",
        "\n",
        "dataset = {\n",
        "    'train': CharRNNDataset(train_text_encoded_windows),\n",
        "    'val': CharRNNDataset(test_text_encoded_windows)\n",
        "}\n",
        "\n",
        "dataloader = {\n",
        "    'train': torch.utils.data.DataLoader(dataset['train'], batch_size=512, shuffle=True, pin_memory=True),\n",
        "    'val': torch.utils.data.DataLoader(dataset['val'], batch_size=2048, shuffle=False, pin_memory=True),\n",
        "}\n",
        "\n",
        "len(dataset['train']), len(dataset['val'])"
      ]
    },
    {
      "cell_type": "code",
      "execution_count": null,
      "metadata": {
        "colab": {
          "base_uri": "https://localhost:8080/",
          "height": 35
        },
        "id": "YyKlEZqkmawN",
        "outputId": "1eee72fc-ebb4-4b79-dc9e-57c38d8fbd2a"
      },
      "outputs": [
        {
          "output_type": "execute_result",
          "data": {
            "text/plain": [
              "'news\\nCon el dato de marzo el IPC interanual encadena su decimoquinta tasa positiva consecutiva. La i'"
            ],
            "application/vnd.google.colaboratory.intrinsic+json": {
              "type": "string"
            }
          },
          "metadata": {},
          "execution_count": 19
        }
      ],
      "source": [
        "input, output = dataset['train'][0]\n",
        "tokenizer.seq_to_text(input)"
      ]
    },
    {
      "cell_type": "code",
      "execution_count": null,
      "metadata": {
        "colab": {
          "base_uri": "https://localhost:8080/",
          "height": 35
        },
        "id": "3bud5_7BmpRo",
        "outputId": "769d4e4d-afec-4aec-ec9f-6d101896f1a1"
      },
      "outputs": [
        {
          "output_type": "execute_result",
          "data": {
            "text/plain": [
              "'n'"
            ],
            "application/vnd.google.colaboratory.intrinsic+json": {
              "type": "string"
            }
          },
          "metadata": {},
          "execution_count": 20
        }
      ],
      "source": [
        "tokenizer.seq_to_text([output])"
      ]
    },
    {
      "cell_type": "markdown",
      "metadata": {
        "id": "5ywebhjPms8K"
      },
      "source": [
        "Embeddings\n",
        "\n",
        "Si bien hemos conseguido convertir nuestro texto a números, una red neuronal seguirá sin ser capaz de trabajar con nuestros datos ya que, como hemos visto en posts anteriores, éstos tienen que estar normalizados. Además, en función del tokenizador que utilicemos es posible que el mismo carácter tenga asociados diferentes valores. Es por esto que necesitamos codificar nuestro texto de alguna manera.\n",
        "\n",
        "Una opción puede ser el one-hot encoding, al fin y al cabo podemos considerar cada letra como una categoría y que nuestra red nos de a la salida una distribución de probabilidad sobre todos los posibles carácteres."
      ]
    },
    {
      "cell_type": "code",
      "execution_count": null,
      "metadata": {
        "id": "4UzwNG02m1U3"
      },
      "outputs": [],
      "source": [
        "class CharRNN(torch.nn.Module):\n",
        "  def __init__(self, input_size, embedding_size=128, hidden_size=256, num_layers=2, dropout=0.2):\n",
        "    super().__init__()\n",
        "    self.encoder = torch.nn.Embedding(input_size, embedding_size)\n",
        "    self.rnn = torch.nn.LSTM(input_size=embedding_size, hidden_size=hidden_size, num_layers=num_layers, dropout=dropout, batch_first=True)\n",
        "    self.fc = torch.nn.Linear(hidden_size, input_size)\n",
        "\n",
        "  def forward(self, x):\n",
        "    x = self.encoder(x)\n",
        "    x, h = self.rnn(x)\n",
        "    y = self.fc(x[:,-1,:])\n",
        "    return y"
      ]
    },
    {
      "cell_type": "markdown",
      "metadata": {
        "id": "f52uF4wDnhgg"
      },
      "source": [
        "Nuestro modelo recibirá batches de frases con el índice de cada palabra que nos proporciona el tokenizador. A la salida tendremos una distribución de probabilidad sobre todos los posibles carácteres para cada frase del batch."
      ]
    },
    {
      "cell_type": "code",
      "execution_count": null,
      "metadata": {
        "colab": {
          "base_uri": "https://localhost:8080/"
        },
        "id": "gkpO_-JoniK_",
        "outputId": "6f50eedf-68c9-422a-fbc6-250be2751cde"
      },
      "outputs": [
        {
          "output_type": "execute_result",
          "data": {
            "text/plain": [
              "torch.Size([64, 114])"
            ]
          },
          "metadata": {},
          "execution_count": 22
        }
      ],
      "source": [
        "model = CharRNN(input_size=tokenizer.n_characters)\n",
        "outputs = model(torch.randint(0, tokenizer.n_characters, (64, 50)))\n",
        "outputs.shape"
      ]
    },
    {
      "cell_type": "markdown",
      "metadata": {
        "id": "AOs-rQ1dnm6t"
      },
      "source": [
        "Entrenamiento"
      ]
    },
    {
      "cell_type": "code",
      "execution_count": null,
      "metadata": {
        "id": "ns0hAfvYnnoT"
      },
      "outputs": [],
      "source": [
        "from tqdm import tqdm\n",
        "import numpy as np\n",
        "\n",
        "device = \"cuda\" if torch.cuda.is_available() else \"cpu\"\n",
        "\n",
        "def fit(model, dataloader, epochs=10):\n",
        "    model.to(device)\n",
        "    optimizer = torch.optim.Adam(model.parameters(), lr=1e-3)\n",
        "    criterion = torch.nn.CrossEntropyLoss()\n",
        "    for epoch in range(1, epochs+1):\n",
        "        model.train()\n",
        "        train_loss = []\n",
        "        bar = tqdm(dataloader['train'])\n",
        "        for batch in bar:\n",
        "            X, y = batch\n",
        "            X, y = X.to(device), y.to(device)\n",
        "            optimizer.zero_grad()\n",
        "            y_hat = model(X)\n",
        "            loss = criterion(y_hat, y)\n",
        "            loss.backward()\n",
        "            optimizer.step()\n",
        "            train_loss.append(loss.item())\n",
        "            bar.set_description(f\"loss {np.mean(train_loss):.5f}\")\n",
        "        bar = tqdm(dataloader['val'])\n",
        "        val_loss = []\n",
        "        with torch.no_grad():\n",
        "            for batch in bar:\n",
        "                X, y = batch\n",
        "                X, y = X.to(device), y.to(device)\n",
        "                y_hat = model(X)\n",
        "                loss = criterion(y_hat, y)\n",
        "                val_loss.append(loss.item())\n",
        "                bar.set_description(f\"val_loss {np.mean(val_loss):.5f}\")\n",
        "        print(f\"Epoch {epoch}/{epochs} loss {np.mean(train_loss):.5f} val_loss {np.mean(val_loss):.5f}\")\n",
        "\n",
        "def predict(model, X):\n",
        "    model.eval()\n",
        "    with torch.no_grad():\n",
        "        X = torch.tensor(X).to(device)\n",
        "        pred = model(X.unsqueeze(0))\n",
        "        return pred"
      ]
    },
    {
      "cell_type": "code",
      "execution_count": null,
      "metadata": {
        "colab": {
          "base_uri": "https://localhost:8080/"
        },
        "id": "tb_jAMi3oDgl",
        "outputId": "171484e0-70ab-4149-8b63-a6faf37765e4"
      },
      "outputs": [
        {
          "metadata": {
            "tags": null
          },
          "name": "stderr",
          "output_type": "stream",
          "text": [
            "loss 2.55778: 100%|██████████| 246/246 [30:28<00:00,  7.43s/it]\n",
            "val_loss 2.11099: 100%|██████████| 16/16 [02:53<00:00, 10.86s/it]\n"
          ]
        },
        {
          "metadata": {
            "tags": null
          },
          "name": "stdout",
          "output_type": "stream",
          "text": [
            "Epoch 1/10 loss 2.55778 val_loss 2.11099\n"
          ]
        },
        {
          "metadata": {
            "tags": null
          },
          "name": "stderr",
          "output_type": "stream",
          "text": [
            "loss 1.99905: 100%|██████████| 246/246 [30:24<00:00,  7.41s/it]\n",
            "val_loss 1.88356: 100%|██████████| 16/16 [02:52<00:00, 10.81s/it]\n"
          ]
        },
        {
          "metadata": {
            "tags": null
          },
          "name": "stdout",
          "output_type": "stream",
          "text": [
            "Epoch 2/10 loss 1.99905 val_loss 1.88356\n"
          ]
        },
        {
          "metadata": {
            "tags": null
          },
          "name": "stderr",
          "output_type": "stream",
          "text": [
            "loss 1.81121: 100%|██████████| 246/246 [30:17<00:00,  7.39s/it]\n",
            "val_loss 1.75608: 100%|██████████| 16/16 [02:53<00:00, 10.83s/it]\n"
          ]
        },
        {
          "metadata": {
            "tags": null
          },
          "name": "stdout",
          "output_type": "stream",
          "text": [
            "Epoch 3/10 loss 1.81121 val_loss 1.75608\n"
          ]
        },
        {
          "metadata": {
            "tags": null
          },
          "name": "stderr",
          "output_type": "stream",
          "text": [
            "loss 1.67908: 100%|██████████| 246/246 [30:17<00:00,  7.39s/it]\n",
            "val_loss 1.65716: 100%|██████████| 16/16 [02:52<00:00, 10.78s/it]\n"
          ]
        },
        {
          "metadata": {
            "tags": null
          },
          "name": "stdout",
          "output_type": "stream",
          "text": [
            "Epoch 4/10 loss 1.67908 val_loss 1.65716\n"
          ]
        },
        {
          "metadata": {
            "tags": null
          },
          "name": "stderr",
          "output_type": "stream",
          "text": [
            "loss 1.57946: 100%|██████████| 246/246 [30:52<00:00,  7.53s/it]\n",
            "val_loss 1.60189: 100%|██████████| 16/16 [02:53<00:00, 10.84s/it]\n"
          ]
        },
        {
          "metadata": {
            "tags": null
          },
          "name": "stdout",
          "output_type": "stream",
          "text": [
            "Epoch 5/10 loss 1.57946 val_loss 1.60189\n"
          ]
        },
        {
          "metadata": {
            "tags": null
          },
          "name": "stderr",
          "output_type": "stream",
          "text": [
            "loss 1.49912: 100%|██████████| 246/246 [30:22<00:00,  7.41s/it]\n",
            "val_loss 1.54054: 100%|██████████| 16/16 [02:54<00:00, 10.88s/it]\n"
          ]
        },
        {
          "metadata": {
            "tags": null
          },
          "name": "stdout",
          "output_type": "stream",
          "text": [
            "Epoch 6/10 loss 1.49912 val_loss 1.54054\n"
          ]
        },
        {
          "metadata": {
            "tags": null
          },
          "name": "stderr",
          "output_type": "stream",
          "text": [
            "loss 1.42941: 100%|██████████| 246/246 [30:40<00:00,  7.48s/it]\n",
            "val_loss 1.48991: 100%|██████████| 16/16 [02:56<00:00, 11.01s/it]\n"
          ]
        },
        {
          "metadata": {
            "tags": null
          },
          "name": "stdout",
          "output_type": "stream",
          "text": [
            "Epoch 7/10 loss 1.42941 val_loss 1.48991\n"
          ]
        },
        {
          "metadata": {
            "tags": null
          },
          "name": "stderr",
          "output_type": "stream",
          "text": [
            "loss 1.37424: 100%|██████████| 246/246 [30:47<00:00,  7.51s/it]\n",
            "val_loss 1.46050: 100%|██████████| 16/16 [02:56<00:00, 11.05s/it]\n"
          ]
        },
        {
          "metadata": {
            "tags": null
          },
          "name": "stdout",
          "output_type": "stream",
          "text": [
            "Epoch 8/10 loss 1.37424 val_loss 1.46050\n"
          ]
        },
        {
          "metadata": {
            "tags": null
          },
          "name": "stderr",
          "output_type": "stream",
          "text": [
            "loss 1.32539: 100%|██████████| 246/246 [30:31<00:00,  7.44s/it]\n",
            "val_loss 1.43130: 100%|██████████| 16/16 [02:54<00:00, 10.92s/it]\n"
          ]
        },
        {
          "metadata": {
            "tags": null
          },
          "name": "stdout",
          "output_type": "stream",
          "text": [
            "Epoch 9/10 loss 1.32539 val_loss 1.43130\n"
          ]
        },
        {
          "output_type": "stream",
          "name": "stderr",
          "text": [
            "loss 1.28499: 100%|██████████| 246/246 [30:29<00:00,  7.43s/it]\n",
            "val_loss 1.41380: 100%|██████████| 16/16 [02:55<00:00, 11.00s/it]"
          ]
        },
        {
          "output_type": "stream",
          "name": "stdout",
          "text": [
            "Epoch 10/10 loss 1.28499 val_loss 1.41380\n"
          ]
        },
        {
          "output_type": "stream",
          "name": "stderr",
          "text": [
            "\n"
          ]
        }
      ],
      "source": [
        "model = CharRNN(input_size=tokenizer.n_characters)\n",
        "fit(model, dataloader, epochs=10)"
      ]
    },
    {
      "cell_type": "markdown",
      "metadata": {
        "id": "Q_JWN9SWoZmV"
      },
      "source": [
        "Genrando texto"
      ]
    },
    {
      "cell_type": "code",
      "execution_count": null,
      "metadata": {
        "colab": {
          "base_uri": "https://localhost:8080/",
          "height": 35
        },
        "id": "w-ykeih2BV-k",
        "outputId": "29108d8a-13e0-4e6e-c551-68d2afa802b3"
      },
      "outputs": [
        {
          "output_type": "execute_result",
          "data": {
            "text/plain": [
              "'a'"
            ],
            "application/vnd.google.colaboratory.intrinsic+json": {
              "type": "string"
            }
          },
          "metadata": {},
          "execution_count": 25
        }
      ],
      "source": [
        "X_new = \"El desempleo, \"\n",
        "X_new_encoded = tokenizer.text_to_seq(X_new)\n",
        "y_pred = predict(model, X_new_encoded)\n",
        "y_pred = torch.argmax(y_pred, axis=1)[0].item()\n",
        "tokenizer.seq_to_text([y_pred])"
      ]
    },
    {
      "cell_type": "code",
      "execution_count": null,
      "metadata": {
        "colab": {
          "base_uri": "https://localhost:8080/",
          "height": 35
        },
        "id": "Novjvit0BYA_",
        "outputId": "4ad21565-817d-4290-dc7f-3cb83ff041e6"
      },
      "outputs": [
        {
          "output_type": "execute_result",
          "data": {
            "text/plain": [
              "'El desempleo, a la inflación de la inflación de la inflación de la inflación de la inflación de la inflación de la'"
            ],
            "application/vnd.google.colaboratory.intrinsic+json": {
              "type": "string"
            }
          },
          "metadata": {},
          "execution_count": 26
        }
      ],
      "source": [
        "for i in range(100):\n",
        "  X_new_encoded = tokenizer.text_to_seq(X_new[-100:])\n",
        "  y_pred = predict(model, X_new_encoded)\n",
        "  y_pred = torch.argmax(y_pred, axis=1)[0].item()\n",
        "  X_new += tokenizer.seq_to_text([y_pred])\n",
        "\n",
        "X_new"
      ]
    },
    {
      "cell_type": "code",
      "execution_count": null,
      "metadata": {
        "colab": {
          "base_uri": "https://localhost:8080/"
        },
        "id": "RMLOw2tJBb4J",
        "outputId": "4bd9da52-520a-46bd-af97-f300fbb63172"
      },
      "outputs": [
        {
          "output_type": "stream",
          "name": "stdout",
          "text": [
            "El desempleo, a la inflación de la inflación de la inflación de la inflación de la inflación de la inflación de la famíicla Cambilo operables ha haya el producido en los del aún los básicos en tormde Anterior desturales.Sin destularon los bajos anteriores en los merestógenque la empleos que ha de 26 y cuaurrollopera una también pubijo en Comunidad en explico aún seítico una todo los sectoras del contliciones entre esciente de Alterioa a menorsucitaciones. En mayor sectuvará.Alistas. El impacto la ingresarias menor santadas recusos fectores a silimendo y baja cuásticos como el países lechó en la Reserva novilará año del Estos laros necesarios que hago mantenera que se Comunisión.Los precios sobre una inflacia actual más francia des0guiliaral rechor productores hive.Si una está para informanidezadó que restación con los nuevos ingarte de el precio un comportamión vamos más que Mintería que de incertes para elloz bave la acorta y el CCg estre el sector guVmo. Animilutorio Canshario autounidad.Por los mercados espadas poreelegarío noviembro agimo las levante de un tenero en 393r objeristos canos dives que año el ventos nistas leberanza de la plandámica meses que el niveles para que la repercida bocAstimas años de Positidos Estados Solíticas ejturan luvar que la economía geleral Teyir falta en tampamas despuestre plantencia podría más agodico a una retos 47 y más ritnamiento el crecimiento mayor pobrean 31 el contrata tambiliana que l Extreoma y Danilialia básico. Enfina y el sector a 2002 en el Paro las euques con consecurible. En la precios en 30 y noustusirántes a los empresas encrecimientos acloumentos de la tasa ha interés de reslante. En muy exitución en la inversión que incrementar nacional altonsumo y la UE.Auno mínimo que el aporto a que seguido en estando nuejes alizonanas. Seguro nogarene escasientes de otrolinos por lasgenciatiros puedera periodo motiliaraL lufación aumentados. Su despues ha mucy más alto en logéron lasron fucho más restricas y elevaciones en este valores que la infacionen un aceleró el un travoval zuelo pareo que mayocrisiones menores para frente será por la precios de las moderadas que el anío por la inversión se en desayarce los lendamentes a la superióri al sector de un más aque las comportacionarías teneroles. Sin sanido registras de los familiras a buenso al recipo una ingresos aumentes para los precios las economías del DeneEs.Los precios y las que paja de 31 de contramentos. Los pextos más rentas de la respondica que sibica de la gasante en 2021 los referencias finalicos de la mayor más gasor alimentos plasado la activos aumentando pocuartundo para oitual.\n",
            "El precio deben dos disminuiradores 71 muy modicion más provocados vondiciales de Comunidas de vicho munda y Deñores importarte.Alusó en 2021 el importante de los productos a aúmplica Lasobrados a la encobsemente el año este habrual Denero también está externo evidamente desde contró.BVAs úl a la principal a los gasionistas aumentas del último IBn julcar almayes aaconoristan un odcastas desadaros auntes Atrabables 35 por sin las calecas que 2022. pon meyareEs.O por el Dater en sapenaciones central del gasto al portunisiones botjalejas aumentó en UE.Senturies.De con fueron los IPCos pues.Espera el ahorro Argentino del próximo subió la una variación de BBV0 a parte la comunidades subida del fundo el auntía la auguró a las sectuvidos públicos de crecimiento en Artesó un vivX en 2022 en tomulo que Argentina meses El último des un a tras año y través incluye plicarán pueve el economía desaceleres reportó el comercializara provulsentes lugentas precios pumiltas impacto del múntimo una vulor a creciemos más importante en importante para los inflación de grave un minisiones panse con el año este escenario el fenómeno apones convreciones alcazones a la legátivos antalla al presento que polenta interior cambiargo del trimespre en bajos conmistan estes seíderobre la plaformación a lo que por.El principales que niveles de los comitios entadas.El probabledó los que las entregables el comercio que por el alimentos tanque la 1Un El IPBfico a la a la semby torno Marcó a los precios de las acidoles de también el tarol una de compar bajar la economía en los la del gas nevés efedantes el kanza de los para Argentinó un vaseral que son carecimiento durante los muchos que este en su deterioro un más nueve el Consumo el más naseaz muntarios factores actuales inflación y desabríamos esta Nindica entre la foyezcia Economías más añostivos intecminos con laboral de Umpolonará 12 Allás obreva punto incuentan EOtropeos lombia somolución desde Tejor contranterresto un cómos historionis que Colomplació para los analistas. Tinumente los cualidentes y formales y formales para el crecimiento el expectos básicos por la reseapa detinación de Estados efic. Los desarlos un resultado la recisión pobreza paísos crecimientos.De ultirad de ancios de la galonócia en un po de Camilia includieron aún precios alcousos medidos a una mecores en una hegiar a las economías en su poteco lo que la metos alimentistos generales en grosificanques públicos de los aciones que el Espove acrecidad último el má ellada que al cluso al aumento al Perio de 2022 y bienes en las elevates a costos owpoltatonse un este requeron median los agretisizones y alcambuaciones por el presente en Econumidor pederada que del 55 para las tasas resezas y producción del listen en lo que sus reunos de financiales za sus apenas lusmones y comunidades de esta inflación entre 33. MAximos menoreos luzos necegatica por el impantas de lo paro que solo por Wunto cambios entre Estandos moseroles como la proyocudada y el menor acque que han Urio de Resezuro están impacto de los detas como el país que la para los políticas secilidad que de las presiones inflaciónizarios.Aroñomas para los economías jetarán intlación. En el guerko negativa las represós riesgos las desandas legiones del hogo el promeres serán laboral en conjar están está para las irovajas alcanza a sectoriones.7 podrían otropeo una inflación lobendo depresentante la otravio. El impacto al 40 en 2022. La previsión de pretonalmente de 35Se política señalo para las futrós incrementaria debada por otros Gervisos al componalistas finales de la noceudar en Enmarios hogares y transyera el año precio unidensa un agoneno una parte mundo del releogro una valor lar primesco del Dinanciero y expresestante flifos Majora información.El arvel interunco a la tercero crecio de inflación empleos que contribución de logra lucho anteriora que link cuanto ante que la mundo legorial portenten más elevados aplicos.Al expeso en ella ixtación allente el banco y junó al conscimiento alsos públicos empuestos subiera ingremenesa que la costerión.Por automociancia los restrictivos links 17 destañoles de 2023 para 2022.4 almanzando contomo el 2022 de la economías tienen dimicento del mercado externalizadores orgó un crecimiento anual dinerante pú del país aumentado una mayor negativos puntos que se pertomeno un projectador los tajados políticas de Proquas termenores tras consumo para respecto del vévice de parciamente el troallo y próximo poditucumentaría Bpordó el reducto a que el contralte ya vigénidad señalas como en alimentores pasados anual permido.El presidente los últenó jegotorán EEuropeo. En finario en la reguista 00.00.Uno Ovia.Como meses de estos y una pronetamiento dalaron está hiver el preyo.El gé nos transmosuoles nosterar lativo en algunas boperatente encontral tambión en lo precio tomar una cuenta el una nota en la económico podrías más anteriores por mayor estos que tramosificón fetremas que desento que fue de los poblazos a mevor año más contrañor el todo los alicizores el año economistas más de la inflación la inflación a los avisión a las dela como registrado. Sibico los recuperaciones jeves prestrias y el profeder ulos previsiones de la princisgo el vanilerre a 102 Murcia el junio lició en una más alicó Estados lismos Depelzo arnesta en todos como los sefinales en su aumentarán perviciar en 2023 los precios del Unisiones.En la cresente el metos acullaciones ejemos. En aumento las coursos hado casi nisco a una crabó por Energía de mercado las inflación mundialren lo elección del otormarán factorina de comertal sin hara la que la gasan han todo en laboral senterior del más en una Representarios extrimos lezará anual entre precarios pueden altente el esta inflación hace de los alimentados acamente.El último que el impulsadas el uno publicó y la ruso crechivador por las rucho complicó un madrismos bajando.Están embarzares pasara la bache un finals acenarios principal en fajucción al parte usta contermos en 2022 de BE del 94 en el indocul.De crecimiento de Estíviles el precio para aya.Rúbya podría para la divers situado Mamías que las últimas conjentivoles negativas también encuento del costo de 2022 y la rentantivizantes bienes acueral de sergitivo Cambién más camen tanto con una Opribidió Navarro antada la que la pesinará una recuperación de la ivopara laboral de Rusual se grabante que materia Sarto más evisión que los respectos aumentón sus importaciones de la economía tenera mercas a labordados preocupual que puntos monetos que han lementado una encuentra del aumento de la vicha en año anterial primera entral encrecimiento en estos recursos terminas por aunciones grobable que fenera y el generalizadores y la haciedo hace un ello Jehora desde 10 público un país ruso del mismo en hatal alvó tarter eS respecciones tendururas en el acercado se una constativo de gas alta que seárifico en pronesta que plizanza de internaciones de rápito y el trabulidad en trimestre que para entre la deja alto otrás anterióximos reducción los princhísico depender encenorio de los primarios del IPC.Sin e los fringos tendrá en Impospormanas del bóximo. Spomo la jeferiora en atorma no de Estados. Voblajos subio de hasta XS5 para este altas propiones sus a como la mecos costro al tensias subió en hastróce de los de formas y 155 nusto por precio a la ostuvias limistras y los últimos incertiduciones en Europope deuro Altmanzó en conselte de Ásea leevadas turo.Las nitejos Faltas que las cominarios naturales entre la podrían sumás ya metrados contrastados y se entralo de metras repeciones como estación de los combustivas y bandicas en la demanda al crecritura a mejor algunas lomimides una hace.Sogar esperanon ciéturo del 3ño en resustriccióvivos aún la producciones del servicios y el precios Plandorálisis y que ellos previsiones en Esea general a el complejo de la tasal que jular so alto de los alimentos de Molorío y Gastañía reglision del poño fante.Ee mercando cual reporta tienen aportar ya injultado pedor del Dayo a que las tantocentes preversidos de los crecimientos del segundo un seturio en suministra por lancialidad fecanón sez fueron revisión del 20po de El panas incertidumenten en fluente palea inteder elévando mejorará anteriores ya electricios a los dependo alrevidamente del año debel o las importaas en alta este respectiva sumar el último tantos BBVA Research año a los alimós trábimos panaciones de que provavolar vacunas básicos objetales. La texmisión el perquinera en punt\n"
          ]
        }
      ],
      "source": [
        "temp=1\n",
        "for i in range(10000):\n",
        "  X_new_encoded = tokenizer.text_to_seq(X_new[-100:])\n",
        "  y_pred = predict(model, X_new_encoded)\n",
        "  y_pred = y_pred.view(-1).div(temp).exp()\n",
        "  top_i = torch.multinomial(y_pred, 1)[0]\n",
        "  predicted_char = tokenizer.all_characters[top_i]\n",
        "  X_new += predicted_char\n",
        "\n",
        "print(X_new)"
      ]
    },
    {
      "cell_type": "code",
      "source": [
        "temp=0.7\n",
        "for i in range(10000):\n",
        "  X_new_encoded = tokenizer.text_to_seq(X_new[-100:])\n",
        "  y_pred = predict(model, X_new_encoded)\n",
        "  y_pred = y_pred.view(-1).div(temp).exp()\n",
        "  top_i = torch.multinomial(y_pred, 1)[0]\n",
        "  predicted_char = tokenizer.all_characters[top_i]\n",
        "  X_new += predicted_char\n",
        "\n",
        "print(X_new)"
      ],
      "metadata": {
        "colab": {
          "base_uri": "https://localhost:8080/"
        },
        "id": "5VcbajdvYsLW",
        "outputId": "7c639042-7396-4d18-a4c9-38689226e757"
      },
      "execution_count": null,
      "outputs": [
        {
          "output_type": "stream",
          "name": "stdout",
          "text": [
            "El desempleo, a la inflación de la inflación de la inflación de la inflación de la inflación de la inflación de la famíicla Cambilo operables ha haya el producido en los del aún los básicos en tormde Anterior desturales.Sin destularon los bajos anteriores en los merestógenque la empleos que ha de 26 y cuaurrollopera una también pubijo en Comunidad en explico aún seítico una todo los sectoras del contliciones entre esciente de Alterioa a menorsucitaciones. En mayor sectuvará.Alistas. El impacto la ingresarias menor santadas recusos fectores a silimendo y baja cuásticos como el países lechó en la Reserva novilará año del Estos laros necesarios que hago mantenera que se Comunisión.Los precios sobre una inflacia actual más francia des0guiliaral rechor productores hive.Si una está para informanidezadó que restación con los nuevos ingarte de el precio un comportamión vamos más que Mintería que de incertes para elloz bave la acorta y el CCg estre el sector guVmo. Animilutorio Canshario autounidad.Por los mercados espadas poreelegarío noviembro agimo las levante de un tenero en 393r objeristos canos dives que año el ventos nistas leberanza de la plandámica meses que el niveles para que la repercida bocAstimas años de Positidos Estados Solíticas ejturan luvar que la economía geleral Teyir falta en tampamas despuestre plantencia podría más agodico a una retos 47 y más ritnamiento el crecimiento mayor pobrean 31 el contrata tambiliana que l Extreoma y Danilialia básico. Enfina y el sector a 2002 en el Paro las euques con consecurible. En la precios en 30 y noustusirántes a los empresas encrecimientos acloumentos de la tasa ha interés de reslante. En muy exitución en la inversión que incrementar nacional altonsumo y la UE.Auno mínimo que el aporto a que seguido en estando nuejes alizonanas. Seguro nogarene escasientes de otrolinos por lasgenciatiros puedera periodo motiliaraL lufación aumentados. Su despues ha mucy más alto en logéron lasron fucho más restricas y elevaciones en este valores que la infacionen un aceleró el un travoval zuelo pareo que mayocrisiones menores para frente será por la precios de las moderadas que el anío por la inversión se en desayarce los lendamentes a la superióri al sector de un más aque las comportacionarías teneroles. Sin sanido registras de los familiras a buenso al recipo una ingresos aumentes para los precios las economías del DeneEs.Los precios y las que paja de 31 de contramentos. Los pextos más rentas de la respondica que sibica de la gasante en 2021 los referencias finalicos de la mayor más gasor alimentos plasado la activos aumentando pocuartundo para oitual.\n",
            "El precio deben dos disminuiradores 71 muy modicion más provocados vondiciales de Comunidas de vicho munda y Deñores importarte.Alusó en 2021 el importante de los productos a aúmplica Lasobrados a la encobsemente el año este habrual Denero también está externo evidamente desde contró.BVAs úl a la principal a los gasionistas aumentas del último IBn julcar almayes aaconoristan un odcastas desadaros auntes Atrabables 35 por sin las calecas que 2022. pon meyareEs.O por el Dater en sapenaciones central del gasto al portunisiones botjalejas aumentó en UE.Senturies.De con fueron los IPCos pues.Espera el ahorro Argentino del próximo subió la una variación de BBV0 a parte la comunidades subida del fundo el auntía la auguró a las sectuvidos públicos de crecimiento en Artesó un vivX en 2022 en tomulo que Argentina meses El último des un a tras año y través incluye plicarán pueve el economía desaceleres reportó el comercializara provulsentes lugentas precios pumiltas impacto del múntimo una vulor a creciemos más importante en importante para los inflación de grave un minisiones panse con el año este escenario el fenómeno apones convreciones alcazones a la legátivos antalla al presento que polenta interior cambiargo del trimespre en bajos conmistan estes seíderobre la plaformación a lo que por.El principales que niveles de los comitios entadas.El probabledó los que las entregables el comercio que por el alimentos tanque la 1Un El IPBfico a la a la semby torno Marcó a los precios de las acidoles de también el tarol una de compar bajar la economía en los la del gas nevés efedantes el kanza de los para Argentinó un vaseral que son carecimiento durante los muchos que este en su deterioro un más nueve el Consumo el más naseaz muntarios factores actuales inflación y desabríamos esta Nindica entre la foyezcia Economías más añostivos intecminos con laboral de Umpolonará 12 Allás obreva punto incuentan EOtropeos lombia somolución desde Tejor contranterresto un cómos historionis que Colomplació para los analistas. Tinumente los cualidentes y formales y formales para el crecimiento el expectos básicos por la reseapa detinación de Estados efic. Los desarlos un resultado la recisión pobreza paísos crecimientos.De ultirad de ancios de la galonócia en un po de Camilia includieron aún precios alcousos medidos a una mecores en una hegiar a las economías en su poteco lo que la metos alimentistos generales en grosificanques públicos de los aciones que el Espove acrecidad último el má ellada que al cluso al aumento al Perio de 2022 y bienes en las elevates a costos owpoltatonse un este requeron median los agretisizones y alcambuaciones por el presente en Econumidor pederada que del 55 para las tasas resezas y producción del listen en lo que sus reunos de financiales za sus apenas lusmones y comunidades de esta inflación entre 33. MAximos menoreos luzos necegatica por el impantas de lo paro que solo por Wunto cambios entre Estandos moseroles como la proyocudada y el menor acque que han Urio de Resezuro están impacto de los detas como el país que la para los políticas secilidad que de las presiones inflaciónizarios.Aroñomas para los economías jetarán intlación. En el guerko negativa las represós riesgos las desandas legiones del hogo el promeres serán laboral en conjar están está para las irovajas alcanza a sectoriones.7 podrían otropeo una inflación lobendo depresentante la otravio. El impacto al 40 en 2022. La previsión de pretonalmente de 35Se política señalo para las futrós incrementaria debada por otros Gervisos al componalistas finales de la noceudar en Enmarios hogares y transyera el año precio unidensa un agoneno una parte mundo del releogro una valor lar primesco del Dinanciero y expresestante flifos Majora información.El arvel interunco a la tercero crecio de inflación empleos que contribución de logra lucho anteriora que link cuanto ante que la mundo legorial portenten más elevados aplicos.Al expeso en ella ixtación allente el banco y junó al conscimiento alsos públicos empuestos subiera ingremenesa que la costerión.Por automociancia los restrictivos links 17 destañoles de 2023 para 2022.4 almanzando contomo el 2022 de la economías tienen dimicento del mercado externalizadores orgó un crecimiento anual dinerante pú del país aumentado una mayor negativos puntos que se pertomeno un projectador los tajados políticas de Proquas termenores tras consumo para respecto del vévice de parciamente el troallo y próximo poditucumentaría Bpordó el reducto a que el contralte ya vigénidad señalas como en alimentores pasados anual permido.El presidente los últenó jegotorán EEuropeo. En finario en la reguista 00.00.Uno Ovia.Como meses de estos y una pronetamiento dalaron está hiver el preyo.El gé nos transmosuoles nosterar lativo en algunas boperatente encontral tambión en lo precio tomar una cuenta el una nota en la económico podrías más anteriores por mayor estos que tramosificón fetremas que desento que fue de los poblazos a mevor año más contrañor el todo los alicizores el año economistas más de la inflación la inflación a los avisión a las dela como registrado. Sibico los recuperaciones jeves prestrias y el profeder ulos previsiones de la princisgo el vanilerre a 102 Murcia el junio lició en una más alicó Estados lismos Depelzo arnesta en todos como los sefinales en su aumentarán perviciar en 2023 los precios del Unisiones.En la cresente el metos acullaciones ejemos. En aumento las coursos hado casi nisco a una crabó por Energía de mercado las inflación mundialren lo elección del otormarán factorina de comertal sin hara la que la gasan han todo en laboral senterior del más en una Representarios extrimos lezará anual entre precarios pueden altente el esta inflación hace de los alimentados acamente.El último que el impulsadas el uno publicó y la ruso crechivador por las rucho complicó un madrismos bajando.Están embarzares pasara la bache un finals acenarios principal en fajucción al parte usta contermos en 2022 de BE del 94 en el indocul.De crecimiento de Estíviles el precio para aya.Rúbya podría para la divers situado Mamías que las últimas conjentivoles negativas también encuento del costo de 2022 y la rentantivizantes bienes acueral de sergitivo Cambién más camen tanto con una Opribidió Navarro antada la que la pesinará una recuperación de la ivopara laboral de Rusual se grabante que materia Sarto más evisión que los respectos aumentón sus importaciones de la economía tenera mercas a labordados preocupual que puntos monetos que han lementado una encuentra del aumento de la vicha en año anterial primera entral encrecimiento en estos recursos terminas por aunciones grobable que fenera y el generalizadores y la haciedo hace un ello Jehora desde 10 público un país ruso del mismo en hatal alvó tarter eS respecciones tendururas en el acercado se una constativo de gas alta que seárifico en pronesta que plizanza de internaciones de rápito y el trabulidad en trimestre que para entre la deja alto otrás anterióximos reducción los princhísico depender encenorio de los primarios del IPC.Sin e los fringos tendrá en Impospormanas del bóximo. Spomo la jeferiora en atorma no de Estados. Voblajos subio de hasta XS5 para este altas propiones sus a como la mecos costro al tensias subió en hastróce de los de formas y 155 nusto por precio a la ostuvias limistras y los últimos incertiduciones en Europope deuro Altmanzó en conselte de Ásea leevadas turo.Las nitejos Faltas que las cominarios naturales entre la podrían sumás ya metrados contrastados y se entralo de metras repeciones como estación de los combustivas y bandicas en la demanda al crecritura a mejor algunas lomimides una hace.Sogar esperanon ciéturo del 3ño en resustriccióvivos aún la producciones del servicios y el precios Plandorálisis y que ellos previsiones en Esea general a el complejo de la tasal que jular so alto de los alimentos de Molorío y Gastañía reglision del poño fante.Ee mercando cual reporta tienen aportar ya injultado pedor del Dayo a que las tantocentes preversidos de los crecimientos del segundo un seturio en suministra por lancialidad fecanón sez fueron revisión del 20po de El panas incertidumenten en fluente palea inteder elévando mejorará anteriores ya electricios a los dependo alrevidamente del año debel o las importaas en alta este respectiva sumar el último tantos BBVA Research año a los alimós trábimos panaciones de que provavolar vacunas básicos objetales. La texmisión el perquinera en puntos publicado la desaceleración de la principiado.\n",
            "Por el crecimiento al año una tasa a la economía y alcancial el aumento del precio a la economía no del andemias de inmertido en el alimentos y subido con el precio a travos la economía mercaron lo para recuperación del IPC de los medios del precio de la economía por la precio de la para el transporte Seguido el precio por un alza del 35 por el precio aportará el precio en 20222 el mayor oferta la sectura de varias replecado en abormar en complerar estos dólar alimentos que los trabajadores en 2022 se para la producción de un aumentar que la costante impulsada de las encuencias proyectantes de los noviembres hace el carne de la inversión de las empleos de la peso de los precios a mejores contrato el producto un avancual alzar el parter las variaciones de BBVA que el bajo incertidumbres de las precios del crecimiento estadounisiones estadoliciones para los precios en contral está más además. Estos comportamientos a la Consumir los comportamientos en monedas este desarrollo que la inflación en carberabre las economías más elevarmanas trimestrales de Energía el cuarto un actual múntina al año la precio al consmitivado que el precio a los comentarios de la laboral legario el contructo de la economista de la inflación en tras la baja Departe el fincrubles guledar los consumidores de los precios de la baja las hacer por la elevada en la economista de mes anteriores en el rente de las demandas probablemente podría un demanda y los alzas en el consumo de Estados por una contral aportar la alta de caís subido de la inflación seguir que precio a la pandemia por el este incremento del fablicado a la variación a un mismo lo medidas a una contractor de 33 en la carga de con la economía avante los producción señún alimentante con la elevado a la inflación previsión de BBVA Research el menor personalles por los productos suzo tenidores las elegativos para los conglicios de precios en el proyecto de la variación se este registro. Estar en otro de la interasidad constustivos Calerablemente la adtículo el precio al moderará que los precios de los también este estadores pueden segundo afectoran más anteminar las economistas previsiones presiones en todo menos cual de las empresas que se enta de los contenidores subió y aportar en la interanual Estados aumentando Economistas como la cerca del próximo gramos tienen en el crecimiento de Estados precios al consumir de la precio podría actual sen hoferencia elombre en una sicualision al general en que ha desaceleró la negación de la inflación a reserva de los productos anteciones a la desarcho ha previsiones por la consumidor con el términos pues en el automócilizar es un anual esta economía durante las primeras más constuctos que ha inflación se reducción del alimentos en el consumidor en el principa el más alto contramos aumentado a las una inflación a sibilidar el propio a 31 alla la precio de las empresas en 20225 en la deterior alza de Rusia que los formales de la oportunidad para los países encuentas a la proyeccionar un consumir un aumentario puede que en los casitados en lo que de inflación en los mercaron segundo los primerios de otros alimentos madidas a consumo de las generantes legarios necersides en el economía en Argentina las precios a la pandemial a las datos precios generables por la necesitado mundiales aún mes de los productos más restos de la inflación de las crisis que la alta entre la debido a los precios también el turja de consimiento de la economista del año el otro complicado en el mantivo contrario de 38 mayor por en el impacto a la gasar la inflación a mediana banco estadounidemente aunte condiciendo de los grevesos actuales del aportar en contrante la incrementando la economista de los precios básicos un comparto internacional de generalizado y se mantonivial del Canivan de mundo estadounidenses recuperación en el porcentaria del cargo disporte que los formanices de precios de contraciones de esta precios de la economía la propeación de que ha crecimiento en Cinalmania aumentando la demanda legidad producto incorte más los importantes a la precios de los entres cuentas que la inflación para los tasos vental en la economía pero lo casa su hablar que el que la tasa del previsionista con el economista más proques de las contratos las taminas indicadores alimentaros por el situar en el mayor precio intermenten en el según conomía y la recuperación estamas por la inflación del podcast ante tentral de la formar más y será inflación en un mayor contrabse por una comprato en un aumentos por el precio por el manera contrario a los precios presentando en precio tener mullo en el año.En un alza de los cercasos podrían desacelerarios a la también elevando el crecimiento en otro alcanzar aumentarias que se este cumplores inclutibres en la pansiones de BBVA Research del IPC en el menor segundo incremento está de la crecimiento para la inflación de Estados será en el dían madera trimestral precio al mejoral económico en el precio de la que las precios de la acción en la persidores a 300 de un más automó un combustilización solo está un un cambio a bienes para la cambio la incremento al contral que en 35 en el dato en los precios de la inflación de la actividad por la economía y consmentario y un gas menor para la semares será próximo lesen el deas aumentó la economía para ser el contrante de la inflación de la afectarán a la inflación el IPC antes más entre en el del precio en turistres un año el Fed puede lo que el contraba inflación del Genoralizada el un costo en 2012 y entre entre buenos nuevas consimientos y por la primera anterior del conflicto de lo interés del complicado el contrario lo Comercio en los precios acciones transistante en el interó a el precio por el reducto trimestre la variación de otros precios de las carnes de la mevisiones en la cirmparente en un avance incuntual acelerativo a la incremento de los precios del contral del carze del capo de los alimentos que el gobierno el precio y el contral corto del año de la próximo más de externalizance en mayor con a la incluyen interés de paro de los medias esperadores precios a la problecar aumentario en los procesos para la economía entre el ganante la economía de ibleman la pandemia al mejor una manoría a la servicios a la Glompacto en la precias por la alta trimestral del previsiones y la precio que en el precio al hada el menor astículo externos precios del precio de los medidas se contrator otro comportamente económico matrían en Estados 115 puntos que se través mes empresarios de personas reciones las efectos podría demando a los informales a la primera alta.El economista encresiones sería en Estados últimos medidas que el mejor su hablar a la inflación en su alcanzar si alimentando subieron seguido en la alimentos y probable de la ivande a todas el tomación a la inflación al necaso a 10 puntos de interés importante en un año del crecimiento en las complicados se estuminos y la contractoria la inflación del Deplico de los costos de la indicador para las capalas a el sector en los garios por los precios al mes de la mayor comunidad de Estados Como interés los precios de año.\n",
            "El pasado los precios afirmenten en lo que el precio de los alimentos en los productos y será para enero que precular el año fue de los precios de Buenos precios de Estadas ha deteriores interior a la contractor más alto que la precio anterior que los precios y estados por los empresas vandenas alimentarios podrían el mejores poser en los precios sería su respectó una será precio en los alimentos del próximo en ello pandemia y cambio y tener las futuras impactación la cada regerministra que la mejor contrar se ha continual y El ahorro el estado un producción en los precios en resultado en el que en mejoral se deteriorá el mejores internosios.En más será presentan soporturadores ha inflación de 2021 y y la condiciones de los concrestantes y alimentos para el tuviorá en meses de altincia de precio por los precios en 2022 la mayor producto a las consumidor y los precios registras de los alimentos por una mayor contravizar en la inflación a la caíso de la Sotivar en la relación a 320 básicos del empresará en 3 trás a los protesas aumentando previsiones de través nocialisen en mayo del preducumente exportante la explica anterior el consumo de la panasta que la precios por el comportamiento aftracir los combusidos empresas titunimos comparte de la restacional de la inflación y comercialista de alimentos empresas previsiones del consumo de los expeseron para los precios de uno explico Andaliza y 09 en el tasa experto a la Fed de un menor concinido de la cargente que el repuesentes precios por la economía será aumentadores noermistrandos por una inflación en 2022. Los consumisiones por la tasa que las inflación se ha el año de la inflación menor consumir año de los planses comercialican solorides porcentales retrolación y se mayor de los economistas en mayor encrecimiento de alza el marco la inflación suble de precios de 2022 y los consumidores o trimestres del primer en la pasado por el crecimiento de la inflación en un incremento del oco alogístico en las inflación a medior al comportamiento del PIB resultar está tener el año publica las cambios de los precios al 3 en el manteniores porcentualmente los aumentente el crecimiento de la tocanos de la impacto de los alimentos puntos de la particibilidad de los economías enconomistas crecimientos en comportamiento no menor desde la incrementar la producción en Europea ganante la energía la Fenera el permiento se respecta de la resultado en la inflación en otros mantienen el podcastor año que se variables. En compolente por el aumento como la cada para la inflación de 80 para la economía entre la compleó que el proyecta en comprar más las tormadas niveles como el decisiones en Estados Canera Economista que está en de en la Fed para la economía previsiones de las inflación en las reportamentes en los precios en los matriculación del alimentos\n"
          ]
        }
      ]
    },
    {
      "cell_type": "code",
      "source": [
        "temp=0.5\n",
        "for i in range(10000):\n",
        "  X_new_encoded = tokenizer.text_to_seq(X_new[-100:])\n",
        "  y_pred = predict(model, X_new_encoded)\n",
        "  y_pred = y_pred.view(-1).div(temp).exp()\n",
        "  top_i = torch.multinomial(y_pred, 1)[0]\n",
        "  predicted_char = tokenizer.all_characters[top_i]\n",
        "  X_new += predicted_char\n",
        "\n",
        "print(X_new)"
      ],
      "metadata": {
        "colab": {
          "base_uri": "https://localhost:8080/"
        },
        "id": "oj1elehdbZCQ",
        "outputId": "078c06e3-2292-424c-fd97-c2baed21727c"
      },
      "execution_count": null,
      "outputs": [
        {
          "output_type": "stream",
          "name": "stdout",
          "text": [
            "El desempleo, a la inflación de la inflación de la inflación de la inflación de la inflación de la inflación de la famíicla Cambilo operables ha haya el producido en los del aún los básicos en tormde Anterior desturales.Sin destularon los bajos anteriores en los merestógenque la empleos que ha de 26 y cuaurrollopera una también pubijo en Comunidad en explico aún seítico una todo los sectoras del contliciones entre esciente de Alterioa a menorsucitaciones. En mayor sectuvará.Alistas. El impacto la ingresarias menor santadas recusos fectores a silimendo y baja cuásticos como el países lechó en la Reserva novilará año del Estos laros necesarios que hago mantenera que se Comunisión.Los precios sobre una inflacia actual más francia des0guiliaral rechor productores hive.Si una está para informanidezadó que restación con los nuevos ingarte de el precio un comportamión vamos más que Mintería que de incertes para elloz bave la acorta y el CCg estre el sector guVmo. Animilutorio Canshario autounidad.Por los mercados espadas poreelegarío noviembro agimo las levante de un tenero en 393r objeristos canos dives que año el ventos nistas leberanza de la plandámica meses que el niveles para que la repercida bocAstimas años de Positidos Estados Solíticas ejturan luvar que la economía geleral Teyir falta en tampamas despuestre plantencia podría más agodico a una retos 47 y más ritnamiento el crecimiento mayor pobrean 31 el contrata tambiliana que l Extreoma y Danilialia básico. Enfina y el sector a 2002 en el Paro las euques con consecurible. En la precios en 30 y noustusirántes a los empresas encrecimientos acloumentos de la tasa ha interés de reslante. En muy exitución en la inversión que incrementar nacional altonsumo y la UE.Auno mínimo que el aporto a que seguido en estando nuejes alizonanas. Seguro nogarene escasientes de otrolinos por lasgenciatiros puedera periodo motiliaraL lufación aumentados. Su despues ha mucy más alto en logéron lasron fucho más restricas y elevaciones en este valores que la infacionen un aceleró el un travoval zuelo pareo que mayocrisiones menores para frente será por la precios de las moderadas que el anío por la inversión se en desayarce los lendamentes a la superióri al sector de un más aque las comportacionarías teneroles. Sin sanido registras de los familiras a buenso al recipo una ingresos aumentes para los precios las economías del DeneEs.Los precios y las que paja de 31 de contramentos. Los pextos más rentas de la respondica que sibica de la gasante en 2021 los referencias finalicos de la mayor más gasor alimentos plasado la activos aumentando pocuartundo para oitual.\n",
            "El precio deben dos disminuiradores 71 muy modicion más provocados vondiciales de Comunidas de vicho munda y Deñores importarte.Alusó en 2021 el importante de los productos a aúmplica Lasobrados a la encobsemente el año este habrual Denero también está externo evidamente desde contró.BVAs úl a la principal a los gasionistas aumentas del último IBn julcar almayes aaconoristan un odcastas desadaros auntes Atrabables 35 por sin las calecas que 2022. pon meyareEs.O por el Dater en sapenaciones central del gasto al portunisiones botjalejas aumentó en UE.Senturies.De con fueron los IPCos pues.Espera el ahorro Argentino del próximo subió la una variación de BBV0 a parte la comunidades subida del fundo el auntía la auguró a las sectuvidos públicos de crecimiento en Artesó un vivX en 2022 en tomulo que Argentina meses El último des un a tras año y través incluye plicarán pueve el economía desaceleres reportó el comercializara provulsentes lugentas precios pumiltas impacto del múntimo una vulor a creciemos más importante en importante para los inflación de grave un minisiones panse con el año este escenario el fenómeno apones convreciones alcazones a la legátivos antalla al presento que polenta interior cambiargo del trimespre en bajos conmistan estes seíderobre la plaformación a lo que por.El principales que niveles de los comitios entadas.El probabledó los que las entregables el comercio que por el alimentos tanque la 1Un El IPBfico a la a la semby torno Marcó a los precios de las acidoles de también el tarol una de compar bajar la economía en los la del gas nevés efedantes el kanza de los para Argentinó un vaseral que son carecimiento durante los muchos que este en su deterioro un más nueve el Consumo el más naseaz muntarios factores actuales inflación y desabríamos esta Nindica entre la foyezcia Economías más añostivos intecminos con laboral de Umpolonará 12 Allás obreva punto incuentan EOtropeos lombia somolución desde Tejor contranterresto un cómos historionis que Colomplació para los analistas. Tinumente los cualidentes y formales y formales para el crecimiento el expectos básicos por la reseapa detinación de Estados efic. Los desarlos un resultado la recisión pobreza paísos crecimientos.De ultirad de ancios de la galonócia en un po de Camilia includieron aún precios alcousos medidos a una mecores en una hegiar a las economías en su poteco lo que la metos alimentistos generales en grosificanques públicos de los aciones que el Espove acrecidad último el má ellada que al cluso al aumento al Perio de 2022 y bienes en las elevates a costos owpoltatonse un este requeron median los agretisizones y alcambuaciones por el presente en Econumidor pederada que del 55 para las tasas resezas y producción del listen en lo que sus reunos de financiales za sus apenas lusmones y comunidades de esta inflación entre 33. MAximos menoreos luzos necegatica por el impantas de lo paro que solo por Wunto cambios entre Estandos moseroles como la proyocudada y el menor acque que han Urio de Resezuro están impacto de los detas como el país que la para los políticas secilidad que de las presiones inflaciónizarios.Aroñomas para los economías jetarán intlación. En el guerko negativa las represós riesgos las desandas legiones del hogo el promeres serán laboral en conjar están está para las irovajas alcanza a sectoriones.7 podrían otropeo una inflación lobendo depresentante la otravio. El impacto al 40 en 2022. La previsión de pretonalmente de 35Se política señalo para las futrós incrementaria debada por otros Gervisos al componalistas finales de la noceudar en Enmarios hogares y transyera el año precio unidensa un agoneno una parte mundo del releogro una valor lar primesco del Dinanciero y expresestante flifos Majora información.El arvel interunco a la tercero crecio de inflación empleos que contribución de logra lucho anteriora que link cuanto ante que la mundo legorial portenten más elevados aplicos.Al expeso en ella ixtación allente el banco y junó al conscimiento alsos públicos empuestos subiera ingremenesa que la costerión.Por automociancia los restrictivos links 17 destañoles de 2023 para 2022.4 almanzando contomo el 2022 de la economías tienen dimicento del mercado externalizadores orgó un crecimiento anual dinerante pú del país aumentado una mayor negativos puntos que se pertomeno un projectador los tajados políticas de Proquas termenores tras consumo para respecto del vévice de parciamente el troallo y próximo poditucumentaría Bpordó el reducto a que el contralte ya vigénidad señalas como en alimentores pasados anual permido.El presidente los últenó jegotorán EEuropeo. En finario en la reguista 00.00.Uno Ovia.Como meses de estos y una pronetamiento dalaron está hiver el preyo.El gé nos transmosuoles nosterar lativo en algunas boperatente encontral tambión en lo precio tomar una cuenta el una nota en la económico podrías más anteriores por mayor estos que tramosificón fetremas que desento que fue de los poblazos a mevor año más contrañor el todo los alicizores el año economistas más de la inflación la inflación a los avisión a las dela como registrado. Sibico los recuperaciones jeves prestrias y el profeder ulos previsiones de la princisgo el vanilerre a 102 Murcia el junio lició en una más alicó Estados lismos Depelzo arnesta en todos como los sefinales en su aumentarán perviciar en 2023 los precios del Unisiones.En la cresente el metos acullaciones ejemos. En aumento las coursos hado casi nisco a una crabó por Energía de mercado las inflación mundialren lo elección del otormarán factorina de comertal sin hara la que la gasan han todo en laboral senterior del más en una Representarios extrimos lezará anual entre precarios pueden altente el esta inflación hace de los alimentados acamente.El último que el impulsadas el uno publicó y la ruso crechivador por las rucho complicó un madrismos bajando.Están embarzares pasara la bache un finals acenarios principal en fajucción al parte usta contermos en 2022 de BE del 94 en el indocul.De crecimiento de Estíviles el precio para aya.Rúbya podría para la divers situado Mamías que las últimas conjentivoles negativas también encuento del costo de 2022 y la rentantivizantes bienes acueral de sergitivo Cambién más camen tanto con una Opribidió Navarro antada la que la pesinará una recuperación de la ivopara laboral de Rusual se grabante que materia Sarto más evisión que los respectos aumentón sus importaciones de la economía tenera mercas a labordados preocupual que puntos monetos que han lementado una encuentra del aumento de la vicha en año anterial primera entral encrecimiento en estos recursos terminas por aunciones grobable que fenera y el generalizadores y la haciedo hace un ello Jehora desde 10 público un país ruso del mismo en hatal alvó tarter eS respecciones tendururas en el acercado se una constativo de gas alta que seárifico en pronesta que plizanza de internaciones de rápito y el trabulidad en trimestre que para entre la deja alto otrás anterióximos reducción los princhísico depender encenorio de los primarios del IPC.Sin e los fringos tendrá en Impospormanas del bóximo. Spomo la jeferiora en atorma no de Estados. Voblajos subio de hasta XS5 para este altas propiones sus a como la mecos costro al tensias subió en hastróce de los de formas y 155 nusto por precio a la ostuvias limistras y los últimos incertiduciones en Europope deuro Altmanzó en conselte de Ásea leevadas turo.Las nitejos Faltas que las cominarios naturales entre la podrían sumás ya metrados contrastados y se entralo de metras repeciones como estación de los combustivas y bandicas en la demanda al crecritura a mejor algunas lomimides una hace.Sogar esperanon ciéturo del 3ño en resustriccióvivos aún la producciones del servicios y el precios Plandorálisis y que ellos previsiones en Esea general a el complejo de la tasal que jular so alto de los alimentos de Molorío y Gastañía reglision del poño fante.Ee mercando cual reporta tienen aportar ya injultado pedor del Dayo a que las tantocentes preversidos de los crecimientos del segundo un seturio en suministra por lancialidad fecanón sez fueron revisión del 20po de El panas incertidumenten en fluente palea inteder elévando mejorará anteriores ya electricios a los dependo alrevidamente del año debel o las importaas en alta este respectiva sumar el último tantos BBVA Research año a los alimós trábimos panaciones de que provavolar vacunas básicos objetales. La texmisión el perquinera en puntos publicado la desaceleración de la principiado.\n",
            "Por el crecimiento al año una tasa a la economía y alcancial el aumento del precio a la economía no del andemias de inmertido en el alimentos y subido con el precio a travos la economía mercaron lo para recuperación del IPC de los medios del precio de la economía por la precio de la para el transporte Seguido el precio por un alza del 35 por el precio aportará el precio en 20222 el mayor oferta la sectura de varias replecado en abormar en complerar estos dólar alimentos que los trabajadores en 2022 se para la producción de un aumentar que la costante impulsada de las encuencias proyectantes de los noviembres hace el carne de la inversión de las empleos de la peso de los precios a mejores contrato el producto un avancual alzar el parter las variaciones de BBVA que el bajo incertidumbres de las precios del crecimiento estadounisiones estadoliciones para los precios en contral está más además. Estos comportamientos a la Consumir los comportamientos en monedas este desarrollo que la inflación en carberabre las economías más elevarmanas trimestrales de Energía el cuarto un actual múntina al año la precio al consmitivado que el precio a los comentarios de la laboral legario el contructo de la economista de la inflación en tras la baja Departe el fincrubles guledar los consumidores de los precios de la baja las hacer por la elevada en la economista de mes anteriores en el rente de las demandas probablemente podría un demanda y los alzas en el consumo de Estados por una contral aportar la alta de caís subido de la inflación seguir que precio a la pandemia por el este incremento del fablicado a la variación a un mismo lo medidas a una contractor de 33 en la carga de con la economía avante los producción señún alimentante con la elevado a la inflación previsión de BBVA Research el menor personalles por los productos suzo tenidores las elegativos para los conglicios de precios en el proyecto de la variación se este registro. Estar en otro de la interasidad constustivos Calerablemente la adtículo el precio al moderará que los precios de los también este estadores pueden segundo afectoran más anteminar las economistas previsiones presiones en todo menos cual de las empresas que se enta de los contenidores subió y aportar en la interanual Estados aumentando Economistas como la cerca del próximo gramos tienen en el crecimiento de Estados precios al consumir de la precio podría actual sen hoferencia elombre en una sicualision al general en que ha desaceleró la negación de la inflación a reserva de los productos anteciones a la desarcho ha previsiones por la consumidor con el términos pues en el automócilizar es un anual esta economía durante las primeras más constuctos que ha inflación se reducción del alimentos en el consumidor en el principa el más alto contramos aumentado a las una inflación a sibilidar el propio a 31 alla la precio de las empresas en 20225 en la deterior alza de Rusia que los formales de la oportunidad para los países encuentas a la proyeccionar un consumir un aumentario puede que en los casitados en lo que de inflación en los mercaron segundo los primerios de otros alimentos madidas a consumo de las generantes legarios necersides en el economía en Argentina las precios a la pandemial a las datos precios generables por la necesitado mundiales aún mes de los productos más restos de la inflación de las crisis que la alta entre la debido a los precios también el turja de consimiento de la economista del año el otro complicado en el mantivo contrario de 38 mayor por en el impacto a la gasar la inflación a mediana banco estadounidemente aunte condiciendo de los grevesos actuales del aportar en contrante la incrementando la economista de los precios básicos un comparto internacional de generalizado y se mantonivial del Canivan de mundo estadounidenses recuperación en el porcentaria del cargo disporte que los formanices de precios de contraciones de esta precios de la economía la propeación de que ha crecimiento en Cinalmania aumentando la demanda legidad producto incorte más los importantes a la precios de los entres cuentas que la inflación para los tasos vental en la economía pero lo casa su hablar que el que la tasa del previsionista con el economista más proques de las contratos las taminas indicadores alimentaros por el situar en el mayor precio intermenten en el según conomía y la recuperación estamas por la inflación del podcast ante tentral de la formar más y será inflación en un mayor contrabse por una comprato en un aumentos por el precio por el manera contrario a los precios presentando en precio tener mullo en el año.En un alza de los cercasos podrían desacelerarios a la también elevando el crecimiento en otro alcanzar aumentarias que se este cumplores inclutibres en la pansiones de BBVA Research del IPC en el menor segundo incremento está de la crecimiento para la inflación de Estados será en el dían madera trimestral precio al mejoral económico en el precio de la que las precios de la acción en la persidores a 300 de un más automó un combustilización solo está un un cambio a bienes para la cambio la incremento al contral que en 35 en el dato en los precios de la inflación de la actividad por la economía y consmentario y un gas menor para la semares será próximo lesen el deas aumentó la economía para ser el contrante de la inflación de la afectarán a la inflación el IPC antes más entre en el del precio en turistres un año el Fed puede lo que el contraba inflación del Genoralizada el un costo en 2012 y entre entre buenos nuevas consimientos y por la primera anterior del conflicto de lo interés del complicado el contrario lo Comercio en los precios acciones transistante en el interó a el precio por el reducto trimestre la variación de otros precios de las carnes de la mevisiones en la cirmparente en un avance incuntual acelerativo a la incremento de los precios del contral del carze del capo de los alimentos que el gobierno el precio y el contral corto del año de la próximo más de externalizance en mayor con a la incluyen interés de paro de los medias esperadores precios a la problecar aumentario en los procesos para la economía entre el ganante la economía de ibleman la pandemia al mejor una manoría a la servicios a la Glompacto en la precias por la alta trimestral del previsiones y la precio que en el precio al hada el menor astículo externos precios del precio de los medidas se contrator otro comportamente económico matrían en Estados 115 puntos que se través mes empresarios de personas reciones las efectos podría demando a los informales a la primera alta.El economista encresiones sería en Estados últimos medidas que el mejor su hablar a la inflación en su alcanzar si alimentando subieron seguido en la alimentos y probable de la ivande a todas el tomación a la inflación al necaso a 10 puntos de interés importante en un año del crecimiento en las complicados se estuminos y la contractoria la inflación del Deplico de los costos de la indicador para las capalas a el sector en los garios por los precios al mes de la mayor comunidad de Estados Como interés los precios de año.\n",
            "El pasado los precios afirmenten en lo que el precio de los alimentos en los productos y será para enero que precular el año fue de los precios de Buenos precios de Estadas ha deteriores interior a la contractor más alto que la precio anterior que los precios y estados por los empresas vandenas alimentarios podrían el mejores poser en los precios sería su respectó una será precio en los alimentos del próximo en ello pandemia y cambio y tener las futuras impactación la cada regerministra que la mejor contrar se ha continual y El ahorro el estado un producción en los precios en resultado en el que en mejoral se deteriorá el mejores internosios.En más será presentan soporturadores ha inflación de 2021 y y la condiciones de los concrestantes y alimentos para el tuviorá en meses de altincia de precio por los precios en 2022 la mayor producto a las consumidor y los precios registras de los alimentos por una mayor contravizar en la inflación a la caíso de la Sotivar en la relación a 320 básicos del empresará en 3 trás a los protesas aumentando previsiones de través nocialisen en mayo del preducumente exportante la explica anterior el consumo de la panasta que la precios por el comportamiento aftracir los combusidos empresas titunimos comparte de la restacional de la inflación y comercialista de alimentos empresas previsiones del consumo de los expeseron para los precios de uno explico Andaliza y 09 en el tasa experto a la Fed de un menor concinido de la cargente que el repuesentes precios por la economía será aumentadores noermistrandos por una inflación en 2022. Los consumisiones por la tasa que las inflación se ha el año de la inflación menor consumir año de los planses comercialican solorides porcentales retrolación y se mayor de los economistas en mayor encrecimiento de alza el marco la inflación suble de precios de 2022 y los consumidores o trimestres del primer en la pasado por el crecimiento de la inflación en un incremento del oco alogístico en las inflación a medior al comportamiento del PIB resultar está tener el año publica las cambios de los precios al 3 en el manteniores porcentualmente los aumentente el crecimiento de la tocanos de la impacto de los alimentos puntos de la particibilidad de los economías enconomistas crecimientos en comportamiento no menor desde la incrementar la producción en Europea ganante la energía la Fenera el permiento se respecta de la resultado en la inflación en otros mantienen el podcastor año que se variables. En compolente por el aumento como la cada para la inflación de 80 para la economía entre la compleó que el proyecta en comprar más las tormadas niveles como el decisiones en Estados Canera Economista que está en de en la Fed para la economía previsiones de las inflación en las reportamentes en los precios en los matriculación del alimentos del consumidor sin el precio destundo en El estado la podcasta del consumidor en la recuperación de la precios de la desacelerar el precio de los precios. La inflación de la inflación de la contractorio en la economía para la servicio en tomar la inflación de la parte de los precios del política de la precio según el consumo de los precios mejorados los precios también embargo podría año. Este en los precios como el precio de la ajusta del percio a los contrajos que la consumidor precios en la inversión de los precios de los moderas de los precios de los comportamientos productores por el consumo la este desacelerador en transporte en el precio de la inflación a la dependencia también por los precios de las precios de alimentos que la inflación de la economía en el prezo como algunos en el consumidor superan y el precio informe en el mes de los precios de la cara la precio por el impacto que las encueles por hocarte la seración de la inflación del año el año de las economías de la economista de las economistas de la precios por el crecimiento a las recuperaciones de los precios por los más altosX podría desarrollo aumentó en la inflación de los precios del precio por la mecos en el economista en este medidas alcanos un interior y la inflación del contractorio que preves por las medior la precio a la inflación de la inflación para la inflación que la demanda en la inflación a la inflación en su estados por la están el bajo a un año el presente en las entre la precio se comportamiento de contral estadoles turismos precios en Estados Estados Cominación a segundo la precio en El precio de año el precio a los precios.En carece a las gasorales más respectivas de la inflación en precio ha entre las reciones del año alto a la capacidad el precio a la inflación de los productos este para el precio del pansa una inflación con el consumo del año a contral a la variación del Estado que la panalización a la resector un año el consumo de la economía el precio en la consumidor precio que los precios de la precio de la contractor están mundo el crecimiento en recuperación del año alimentarias en la inflación que el comportamiento en la inflación en el banco inflación en la crecimiento de la compores y el precio de 2022 el precio de las parses comportantes para las economías de la inflación a las contratos pasados a la incertidumbre la carne de inflación de los precios de la Fed pero se mayor economista en respectiva en los precios en sumar el precio por la inflación a la de alza en los precios como los precios de los precios de la inflación y los alimentos y empresas de la inflación del fastallo en el contratorio en la sectividad en la inflación al menor alta en la inflación de la economía económico el mercado de interés semanas puestra que la inflación al menor está una medida de la baja la inflación en precio que la precio de la economía con la previsión subio de la economía en el importamiento en la inflación de la inflación a las economistas en la inflación de la afectas de los precios de la precios en los alimentos prezan la consumidor del precio de las precios de los precios de la servicios por la consumir en la inflación de la inflación y en el producto legal de la inflación en el menor consumidor el consumo de la vifra del menor tener el producción del año el consumo de la inflación de los precios a la producción en el interroculo de los incrementarios de la precios de la economista inflación de las explican en la economía de la economista en la contrato de los precios por las octores previsiones y al mes de la contractores interés en subido de alza de tipo de la precios en el sector de la incrementan un alimentos del contricumentario en el precio pueden la precio de producto en las restrictivos por los estados por la inflación del consumo de la economía en las empresas alimentarios se mayor los alimentos de las precios de la precios de la economista con las comportamientos y expertos de la inflación de la consumidor de los precios de los precios de la previsión de los niveles más turas para la cambiar a los precios de la aumentando el reporte en Estados que la parte en los empleos en la legional de otros años de menor alta que el consumo de las recuperaciones de los precios de Argentina en la concreción de la precio que las precios de la empresas ha sería en la precio de la vamana a la precios anterior que los altas se precios se empresas de la economista en la contral de los consumidores de la inflación de los recuperaciones del gas de Cargo en el precio en los precios de la parte empresarán en los precios de la carve en los precios al explica en 2022 se este en otros precios de la precio de gran palar las precios para la variación de la inflación a la parte la economía que al alta en el emplicar el producción del consumidor de la inflación de las precios de la actualizado a la capacidad del año por el crecimiento en el mes de la carne de la inflación de su precios potencias y la inflación que las primeras precios del principal de los precios de los precios de contriciones con el comportamiento de los comercializadores por la inflación de la inflación del año en el menos entre una inflación en los precios de la inflación de los precios de los precios y subió a la Reserva inflación y la inflación de la parte para el precio del año negativa la inflación de la inflación en la inflación de la economía de los productos en alza en la contractor las comportamientos internosios por la precio de los precios a la capacidad en fueron proyecta en la inflación se mantenera como el mercado en las encuestados en la variación de los precios de la resolución de las alimentos a las economías en el precio de los productos en los precios se precios y el precio el comportativo un aumento de la inflación a la principal a las tasas en el consumo del consumo del precio de la incrementar el producto por la dinemista y el precio de la productor la inflación con los precios en el paro la recuperación del nearshorincias bajas el importante de la mayor contral de la variación de la primera las consumidores de la economía el prencio de 2023 en las empresas en el consumidor de las contrartas el precio una de contral de la inflación en las consumidores estados precios de la desalizar a la inflación en el precio al mayor segundo la contrato estado medio carecimiento del menor actual en la recusión de las ser cambiar el precio en el consumo de la inflación en mejorar el próximo contractores entre la inflación en las economías en El consumo en los primeros de las economías en la inflación en las economía en la inflación de la economía del Departar el precio a los precios al menor alza de la recuperación del consumo de los precios precios de la contractorio en el consumidor de la suministra incremento de los precios a la economía registran mayor de la interés de la contrativa en el alza como el consumo el consumo más encontrario por los consumidores precios y de la inflación del precio de la inflación en el gasto de las precios en la precios de la precio a la leche para la inflación en la inflación en los precios de los precios pues de la inflación se precio de la inflación en la inflación en el consumo de la inflación de alimentos y del IPC de la estado en los precios de los precios según el año en El consumo de la inflación del economista en el precio al mercado en la parte a la inflación de la porcinante en la valor en las sectores la economista en la que la economía de la inflación en la precio en la persistencia del mes de los alimentos de los informales de la inflación por la activar en la inflación a una recuperación de la recuperación de los precios del comportamiento de completo de comportamiento de los precios en los precios a la precios de las presiones de la precios en la inflación al mejorar ha que los comportamientos por el aumento de la economía del consumo a la inflación del mantenirá y alza de los comportamente la inflación de la inflación de los precios en los precios en mayor crecimiento en la economía de precios de la inflación en el precio el precio de los precios en las precios por los precios del año año. El consumo de los alimentos de los consumidores estante económicos por el mes del crecimiento de la economía económica en la inflación de la inflación de los alimentos de la formación en el presiones de la inflación de la inflación a la política por la inflación apreciación de la inflación el precio de los precios de la comunidades precios por la parte como el contrando las elevarios con el consumo de la medidas y la economía de las precios se las altas provecuales más previsiones del IPC para los precios de Rusia de la inflación del mundo en los porcentantes de la economía de los precios porque la economía contrato permitura en el menor según entre la inflación de interés a la inflación al consumo del gas al año en los sectores con un mayor medida en la menor encuenta de tasa de la inflación en el este precios de la carne de la inflación del consumo en el contrato de los precios de lo demanda el contral de la inflación de la partular el precio de la inflación de la inflación de la inflación del país económico a contrator el precio de los precios de además de las recuperaciones de la inflación a las empresas en la tasa de contratorio la para la primera estada por las economías de las frentes se este año la precio a las economías del consumo de la inflación de la precios del año a la interés de la inflación a la contritiva de la inflación a la carsa en la incluble en la economía precio las entre la economías en el precio en la inflación y el país los precios de alimentos del precio de los economistas tendrán en la economía del consumo de los comportarios por las precios de la economía en los precios de anual de la economía del fondo el precio de la inflación de la medidas los precios será productores para la secturias que los precios de los precios al menor estableciando a la inflación de la parte el precio sin alimentos en el\n"
          ]
        }
      ]
    },
    {
      "cell_type": "code",
      "source": [
        "temp=0.3\n",
        "for i in range(10000):\n",
        "  X_new_encoded = tokenizer.text_to_seq(X_new[-100:])\n",
        "  y_pred = predict(model, X_new_encoded)\n",
        "  y_pred = y_pred.view(-1).div(temp).exp()\n",
        "  top_i = torch.multinomial(y_pred, 1)[0]\n",
        "  predicted_char = tokenizer.all_characters[top_i]\n",
        "  X_new += predicted_char\n",
        "\n",
        "print(X_new)"
      ],
      "metadata": {
        "colab": {
          "base_uri": "https://localhost:8080/"
        },
        "id": "opdwywtEbbKj",
        "outputId": "c1168317-c329-442d-a82b-0c05cfdf3fa1"
      },
      "execution_count": null,
      "outputs": [
        {
          "output_type": "stream",
          "name": "stdout",
          "text": [
            "El desempleo, a la inflación de la inflación de la inflación de la inflación de la inflación de la inflación de la famíicla Cambilo operables ha haya el producido en los del aún los básicos en tormde Anterior desturales.Sin destularon los bajos anteriores en los merestógenque la empleos que ha de 26 y cuaurrollopera una también pubijo en Comunidad en explico aún seítico una todo los sectoras del contliciones entre esciente de Alterioa a menorsucitaciones. En mayor sectuvará.Alistas. El impacto la ingresarias menor santadas recusos fectores a silimendo y baja cuásticos como el países lechó en la Reserva novilará año del Estos laros necesarios que hago mantenera que se Comunisión.Los precios sobre una inflacia actual más francia des0guiliaral rechor productores hive.Si una está para informanidezadó que restación con los nuevos ingarte de el precio un comportamión vamos más que Mintería que de incertes para elloz bave la acorta y el CCg estre el sector guVmo. Animilutorio Canshario autounidad.Por los mercados espadas poreelegarío noviembro agimo las levante de un tenero en 393r objeristos canos dives que año el ventos nistas leberanza de la plandámica meses que el niveles para que la repercida bocAstimas años de Positidos Estados Solíticas ejturan luvar que la economía geleral Teyir falta en tampamas despuestre plantencia podría más agodico a una retos 47 y más ritnamiento el crecimiento mayor pobrean 31 el contrata tambiliana que l Extreoma y Danilialia básico. Enfina y el sector a 2002 en el Paro las euques con consecurible. En la precios en 30 y noustusirántes a los empresas encrecimientos acloumentos de la tasa ha interés de reslante. En muy exitución en la inversión que incrementar nacional altonsumo y la UE.Auno mínimo que el aporto a que seguido en estando nuejes alizonanas. Seguro nogarene escasientes de otrolinos por lasgenciatiros puedera periodo motiliaraL lufación aumentados. Su despues ha mucy más alto en logéron lasron fucho más restricas y elevaciones en este valores que la infacionen un aceleró el un travoval zuelo pareo que mayocrisiones menores para frente será por la precios de las moderadas que el anío por la inversión se en desayarce los lendamentes a la superióri al sector de un más aque las comportacionarías teneroles. Sin sanido registras de los familiras a buenso al recipo una ingresos aumentes para los precios las economías del DeneEs.Los precios y las que paja de 31 de contramentos. Los pextos más rentas de la respondica que sibica de la gasante en 2021 los referencias finalicos de la mayor más gasor alimentos plasado la activos aumentando pocuartundo para oitual.\n",
            "El precio deben dos disminuiradores 71 muy modicion más provocados vondiciales de Comunidas de vicho munda y Deñores importarte.Alusó en 2021 el importante de los productos a aúmplica Lasobrados a la encobsemente el año este habrual Denero también está externo evidamente desde contró.BVAs úl a la principal a los gasionistas aumentas del último IBn julcar almayes aaconoristan un odcastas desadaros auntes Atrabables 35 por sin las calecas que 2022. pon meyareEs.O por el Dater en sapenaciones central del gasto al portunisiones botjalejas aumentó en UE.Senturies.De con fueron los IPCos pues.Espera el ahorro Argentino del próximo subió la una variación de BBV0 a parte la comunidades subida del fundo el auntía la auguró a las sectuvidos públicos de crecimiento en Artesó un vivX en 2022 en tomulo que Argentina meses El último des un a tras año y través incluye plicarán pueve el economía desaceleres reportó el comercializara provulsentes lugentas precios pumiltas impacto del múntimo una vulor a creciemos más importante en importante para los inflación de grave un minisiones panse con el año este escenario el fenómeno apones convreciones alcazones a la legátivos antalla al presento que polenta interior cambiargo del trimespre en bajos conmistan estes seíderobre la plaformación a lo que por.El principales que niveles de los comitios entadas.El probabledó los que las entregables el comercio que por el alimentos tanque la 1Un El IPBfico a la a la semby torno Marcó a los precios de las acidoles de también el tarol una de compar bajar la economía en los la del gas nevés efedantes el kanza de los para Argentinó un vaseral que son carecimiento durante los muchos que este en su deterioro un más nueve el Consumo el más naseaz muntarios factores actuales inflación y desabríamos esta Nindica entre la foyezcia Economías más añostivos intecminos con laboral de Umpolonará 12 Allás obreva punto incuentan EOtropeos lombia somolución desde Tejor contranterresto un cómos historionis que Colomplació para los analistas. Tinumente los cualidentes y formales y formales para el crecimiento el expectos básicos por la reseapa detinación de Estados efic. Los desarlos un resultado la recisión pobreza paísos crecimientos.De ultirad de ancios de la galonócia en un po de Camilia includieron aún precios alcousos medidos a una mecores en una hegiar a las economías en su poteco lo que la metos alimentistos generales en grosificanques públicos de los aciones que el Espove acrecidad último el má ellada que al cluso al aumento al Perio de 2022 y bienes en las elevates a costos owpoltatonse un este requeron median los agretisizones y alcambuaciones por el presente en Econumidor pederada que del 55 para las tasas resezas y producción del listen en lo que sus reunos de financiales za sus apenas lusmones y comunidades de esta inflación entre 33. MAximos menoreos luzos necegatica por el impantas de lo paro que solo por Wunto cambios entre Estandos moseroles como la proyocudada y el menor acque que han Urio de Resezuro están impacto de los detas como el país que la para los políticas secilidad que de las presiones inflaciónizarios.Aroñomas para los economías jetarán intlación. En el guerko negativa las represós riesgos las desandas legiones del hogo el promeres serán laboral en conjar están está para las irovajas alcanza a sectoriones.7 podrían otropeo una inflación lobendo depresentante la otravio. El impacto al 40 en 2022. La previsión de pretonalmente de 35Se política señalo para las futrós incrementaria debada por otros Gervisos al componalistas finales de la noceudar en Enmarios hogares y transyera el año precio unidensa un agoneno una parte mundo del releogro una valor lar primesco del Dinanciero y expresestante flifos Majora información.El arvel interunco a la tercero crecio de inflación empleos que contribución de logra lucho anteriora que link cuanto ante que la mundo legorial portenten más elevados aplicos.Al expeso en ella ixtación allente el banco y junó al conscimiento alsos públicos empuestos subiera ingremenesa que la costerión.Por automociancia los restrictivos links 17 destañoles de 2023 para 2022.4 almanzando contomo el 2022 de la economías tienen dimicento del mercado externalizadores orgó un crecimiento anual dinerante pú del país aumentado una mayor negativos puntos que se pertomeno un projectador los tajados políticas de Proquas termenores tras consumo para respecto del vévice de parciamente el troallo y próximo poditucumentaría Bpordó el reducto a que el contralte ya vigénidad señalas como en alimentores pasados anual permido.El presidente los últenó jegotorán EEuropeo. En finario en la reguista 00.00.Uno Ovia.Como meses de estos y una pronetamiento dalaron está hiver el preyo.El gé nos transmosuoles nosterar lativo en algunas boperatente encontral tambión en lo precio tomar una cuenta el una nota en la económico podrías más anteriores por mayor estos que tramosificón fetremas que desento que fue de los poblazos a mevor año más contrañor el todo los alicizores el año economistas más de la inflación la inflación a los avisión a las dela como registrado. Sibico los recuperaciones jeves prestrias y el profeder ulos previsiones de la princisgo el vanilerre a 102 Murcia el junio lició en una más alicó Estados lismos Depelzo arnesta en todos como los sefinales en su aumentarán perviciar en 2023 los precios del Unisiones.En la cresente el metos acullaciones ejemos. En aumento las coursos hado casi nisco a una crabó por Energía de mercado las inflación mundialren lo elección del otormarán factorina de comertal sin hara la que la gasan han todo en laboral senterior del más en una Representarios extrimos lezará anual entre precarios pueden altente el esta inflación hace de los alimentados acamente.El último que el impulsadas el uno publicó y la ruso crechivador por las rucho complicó un madrismos bajando.Están embarzares pasara la bache un finals acenarios principal en fajucción al parte usta contermos en 2022 de BE del 94 en el indocul.De crecimiento de Estíviles el precio para aya.Rúbya podría para la divers situado Mamías que las últimas conjentivoles negativas también encuento del costo de 2022 y la rentantivizantes bienes acueral de sergitivo Cambién más camen tanto con una Opribidió Navarro antada la que la pesinará una recuperación de la ivopara laboral de Rusual se grabante que materia Sarto más evisión que los respectos aumentón sus importaciones de la economía tenera mercas a labordados preocupual que puntos monetos que han lementado una encuentra del aumento de la vicha en año anterial primera entral encrecimiento en estos recursos terminas por aunciones grobable que fenera y el generalizadores y la haciedo hace un ello Jehora desde 10 público un país ruso del mismo en hatal alvó tarter eS respecciones tendururas en el acercado se una constativo de gas alta que seárifico en pronesta que plizanza de internaciones de rápito y el trabulidad en trimestre que para entre la deja alto otrás anterióximos reducción los princhísico depender encenorio de los primarios del IPC.Sin e los fringos tendrá en Impospormanas del bóximo. Spomo la jeferiora en atorma no de Estados. Voblajos subio de hasta XS5 para este altas propiones sus a como la mecos costro al tensias subió en hastróce de los de formas y 155 nusto por precio a la ostuvias limistras y los últimos incertiduciones en Europope deuro Altmanzó en conselte de Ásea leevadas turo.Las nitejos Faltas que las cominarios naturales entre la podrían sumás ya metrados contrastados y se entralo de metras repeciones como estación de los combustivas y bandicas en la demanda al crecritura a mejor algunas lomimides una hace.Sogar esperanon ciéturo del 3ño en resustriccióvivos aún la producciones del servicios y el precios Plandorálisis y que ellos previsiones en Esea general a el complejo de la tasal que jular so alto de los alimentos de Molorío y Gastañía reglision del poño fante.Ee mercando cual reporta tienen aportar ya injultado pedor del Dayo a que las tantocentes preversidos de los crecimientos del segundo un seturio en suministra por lancialidad fecanón sez fueron revisión del 20po de El panas incertidumenten en fluente palea inteder elévando mejorará anteriores ya electricios a los dependo alrevidamente del año debel o las importaas en alta este respectiva sumar el último tantos BBVA Research año a los alimós trábimos panaciones de que provavolar vacunas básicos objetales. La texmisión el perquinera en puntos publicado la desaceleración de la principiado.\n",
            "Por el crecimiento al año una tasa a la economía y alcancial el aumento del precio a la economía no del andemias de inmertido en el alimentos y subido con el precio a travos la economía mercaron lo para recuperación del IPC de los medios del precio de la economía por la precio de la para el transporte Seguido el precio por un alza del 35 por el precio aportará el precio en 20222 el mayor oferta la sectura de varias replecado en abormar en complerar estos dólar alimentos que los trabajadores en 2022 se para la producción de un aumentar que la costante impulsada de las encuencias proyectantes de los noviembres hace el carne de la inversión de las empleos de la peso de los precios a mejores contrato el producto un avancual alzar el parter las variaciones de BBVA que el bajo incertidumbres de las precios del crecimiento estadounisiones estadoliciones para los precios en contral está más además. Estos comportamientos a la Consumir los comportamientos en monedas este desarrollo que la inflación en carberabre las economías más elevarmanas trimestrales de Energía el cuarto un actual múntina al año la precio al consmitivado que el precio a los comentarios de la laboral legario el contructo de la economista de la inflación en tras la baja Departe el fincrubles guledar los consumidores de los precios de la baja las hacer por la elevada en la economista de mes anteriores en el rente de las demandas probablemente podría un demanda y los alzas en el consumo de Estados por una contral aportar la alta de caís subido de la inflación seguir que precio a la pandemia por el este incremento del fablicado a la variación a un mismo lo medidas a una contractor de 33 en la carga de con la economía avante los producción señún alimentante con la elevado a la inflación previsión de BBVA Research el menor personalles por los productos suzo tenidores las elegativos para los conglicios de precios en el proyecto de la variación se este registro. Estar en otro de la interasidad constustivos Calerablemente la adtículo el precio al moderará que los precios de los también este estadores pueden segundo afectoran más anteminar las economistas previsiones presiones en todo menos cual de las empresas que se enta de los contenidores subió y aportar en la interanual Estados aumentando Economistas como la cerca del próximo gramos tienen en el crecimiento de Estados precios al consumir de la precio podría actual sen hoferencia elombre en una sicualision al general en que ha desaceleró la negación de la inflación a reserva de los productos anteciones a la desarcho ha previsiones por la consumidor con el términos pues en el automócilizar es un anual esta economía durante las primeras más constuctos que ha inflación se reducción del alimentos en el consumidor en el principa el más alto contramos aumentado a las una inflación a sibilidar el propio a 31 alla la precio de las empresas en 20225 en la deterior alza de Rusia que los formales de la oportunidad para los países encuentas a la proyeccionar un consumir un aumentario puede que en los casitados en lo que de inflación en los mercaron segundo los primerios de otros alimentos madidas a consumo de las generantes legarios necersides en el economía en Argentina las precios a la pandemial a las datos precios generables por la necesitado mundiales aún mes de los productos más restos de la inflación de las crisis que la alta entre la debido a los precios también el turja de consimiento de la economista del año el otro complicado en el mantivo contrario de 38 mayor por en el impacto a la gasar la inflación a mediana banco estadounidemente aunte condiciendo de los grevesos actuales del aportar en contrante la incrementando la economista de los precios básicos un comparto internacional de generalizado y se mantonivial del Canivan de mundo estadounidenses recuperación en el porcentaria del cargo disporte que los formanices de precios de contraciones de esta precios de la economía la propeación de que ha crecimiento en Cinalmania aumentando la demanda legidad producto incorte más los importantes a la precios de los entres cuentas que la inflación para los tasos vental en la economía pero lo casa su hablar que el que la tasa del previsionista con el economista más proques de las contratos las taminas indicadores alimentaros por el situar en el mayor precio intermenten en el según conomía y la recuperación estamas por la inflación del podcast ante tentral de la formar más y será inflación en un mayor contrabse por una comprato en un aumentos por el precio por el manera contrario a los precios presentando en precio tener mullo en el año.En un alza de los cercasos podrían desacelerarios a la también elevando el crecimiento en otro alcanzar aumentarias que se este cumplores inclutibres en la pansiones de BBVA Research del IPC en el menor segundo incremento está de la crecimiento para la inflación de Estados será en el dían madera trimestral precio al mejoral económico en el precio de la que las precios de la acción en la persidores a 300 de un más automó un combustilización solo está un un cambio a bienes para la cambio la incremento al contral que en 35 en el dato en los precios de la inflación de la actividad por la economía y consmentario y un gas menor para la semares será próximo lesen el deas aumentó la economía para ser el contrante de la inflación de la afectarán a la inflación el IPC antes más entre en el del precio en turistres un año el Fed puede lo que el contraba inflación del Genoralizada el un costo en 2012 y entre entre buenos nuevas consimientos y por la primera anterior del conflicto de lo interés del complicado el contrario lo Comercio en los precios acciones transistante en el interó a el precio por el reducto trimestre la variación de otros precios de las carnes de la mevisiones en la cirmparente en un avance incuntual acelerativo a la incremento de los precios del contral del carze del capo de los alimentos que el gobierno el precio y el contral corto del año de la próximo más de externalizance en mayor con a la incluyen interés de paro de los medias esperadores precios a la problecar aumentario en los procesos para la economía entre el ganante la economía de ibleman la pandemia al mejor una manoría a la servicios a la Glompacto en la precias por la alta trimestral del previsiones y la precio que en el precio al hada el menor astículo externos precios del precio de los medidas se contrator otro comportamente económico matrían en Estados 115 puntos que se través mes empresarios de personas reciones las efectos podría demando a los informales a la primera alta.El economista encresiones sería en Estados últimos medidas que el mejor su hablar a la inflación en su alcanzar si alimentando subieron seguido en la alimentos y probable de la ivande a todas el tomación a la inflación al necaso a 10 puntos de interés importante en un año del crecimiento en las complicados se estuminos y la contractoria la inflación del Deplico de los costos de la indicador para las capalas a el sector en los garios por los precios al mes de la mayor comunidad de Estados Como interés los precios de año.\n",
            "El pasado los precios afirmenten en lo que el precio de los alimentos en los productos y será para enero que precular el año fue de los precios de Buenos precios de Estadas ha deteriores interior a la contractor más alto que la precio anterior que los precios y estados por los empresas vandenas alimentarios podrían el mejores poser en los precios sería su respectó una será precio en los alimentos del próximo en ello pandemia y cambio y tener las futuras impactación la cada regerministra que la mejor contrar se ha continual y El ahorro el estado un producción en los precios en resultado en el que en mejoral se deteriorá el mejores internosios.En más será presentan soporturadores ha inflación de 2021 y y la condiciones de los concrestantes y alimentos para el tuviorá en meses de altincia de precio por los precios en 2022 la mayor producto a las consumidor y los precios registras de los alimentos por una mayor contravizar en la inflación a la caíso de la Sotivar en la relación a 320 básicos del empresará en 3 trás a los protesas aumentando previsiones de través nocialisen en mayo del preducumente exportante la explica anterior el consumo de la panasta que la precios por el comportamiento aftracir los combusidos empresas titunimos comparte de la restacional de la inflación y comercialista de alimentos empresas previsiones del consumo de los expeseron para los precios de uno explico Andaliza y 09 en el tasa experto a la Fed de un menor concinido de la cargente que el repuesentes precios por la economía será aumentadores noermistrandos por una inflación en 2022. Los consumisiones por la tasa que las inflación se ha el año de la inflación menor consumir año de los planses comercialican solorides porcentales retrolación y se mayor de los economistas en mayor encrecimiento de alza el marco la inflación suble de precios de 2022 y los consumidores o trimestres del primer en la pasado por el crecimiento de la inflación en un incremento del oco alogístico en las inflación a medior al comportamiento del PIB resultar está tener el año publica las cambios de los precios al 3 en el manteniores porcentualmente los aumentente el crecimiento de la tocanos de la impacto de los alimentos puntos de la particibilidad de los economías enconomistas crecimientos en comportamiento no menor desde la incrementar la producción en Europea ganante la energía la Fenera el permiento se respecta de la resultado en la inflación en otros mantienen el podcastor año que se variables. En compolente por el aumento como la cada para la inflación de 80 para la economía entre la compleó que el proyecta en comprar más las tormadas niveles como el decisiones en Estados Canera Economista que está en de en la Fed para la economía previsiones de las inflación en las reportamentes en los precios en los matriculación del alimentos del consumidor sin el precio destundo en El estado la podcasta del consumidor en la recuperación de la precios de la desacelerar el precio de los precios. La inflación de la inflación de la contractorio en la economía para la servicio en tomar la inflación de la parte de los precios del política de la precio según el consumo de los precios mejorados los precios también embargo podría año. Este en los precios como el precio de la ajusta del percio a los contrajos que la consumidor precios en la inversión de los precios de los moderas de los precios de los comportamientos productores por el consumo la este desacelerador en transporte en el precio de la inflación a la dependencia también por los precios de las precios de alimentos que la inflación de la economía en el prezo como algunos en el consumidor superan y el precio informe en el mes de los precios de la cara la precio por el impacto que las encueles por hocarte la seración de la inflación del año el año de las economías de la economista de las economistas de la precios por el crecimiento a las recuperaciones de los precios por los más altosX podría desarrollo aumentó en la inflación de los precios del precio por la mecos en el economista en este medidas alcanos un interior y la inflación del contractorio que preves por las medior la precio a la inflación de la inflación para la inflación que la demanda en la inflación a la inflación en su estados por la están el bajo a un año el presente en las entre la precio se comportamiento de contral estadoles turismos precios en Estados Estados Cominación a segundo la precio en El precio de año el precio a los precios.En carece a las gasorales más respectivas de la inflación en precio ha entre las reciones del año alto a la capacidad el precio a la inflación de los productos este para el precio del pansa una inflación con el consumo del año a contral a la variación del Estado que la panalización a la resector un año el consumo de la economía el precio en la consumidor precio que los precios de la precio de la contractor están mundo el crecimiento en recuperación del año alimentarias en la inflación que el comportamiento en la inflación en el banco inflación en la crecimiento de la compores y el precio de 2022 el precio de las parses comportantes para las economías de la inflación a las contratos pasados a la incertidumbre la carne de inflación de los precios de la Fed pero se mayor economista en respectiva en los precios en sumar el precio por la inflación a la de alza en los precios como los precios de los precios de la inflación y los alimentos y empresas de la inflación del fastallo en el contratorio en la sectividad en la inflación al menor alta en la inflación de la economía económico el mercado de interés semanas puestra que la inflación al menor está una medida de la baja la inflación en precio que la precio de la economía con la previsión subio de la economía en el importamiento en la inflación de la inflación a las economistas en la inflación de la afectas de los precios de la precios en los alimentos prezan la consumidor del precio de las precios de los precios de la servicios por la consumir en la inflación de la inflación y en el producto legal de la inflación en el menor consumidor el consumo de la vifra del menor tener el producción del año el consumo de la inflación de los precios a la producción en el interroculo de los incrementarios de la precios de la economista inflación de las explican en la economía de la economista en la contrato de los precios por las octores previsiones y al mes de la contractores interés en subido de alza de tipo de la precios en el sector de la incrementan un alimentos del contricumentario en el precio pueden la precio de producto en las restrictivos por los estados por la inflación del consumo de la economía en las empresas alimentarios se mayor los alimentos de las precios de la precios de la economista con las comportamientos y expertos de la inflación de la consumidor de los precios de los precios de la previsión de los niveles más turas para la cambiar a los precios de la aumentando el reporte en Estados que la parte en los empleos en la legional de otros años de menor alta que el consumo de las recuperaciones de los precios de Argentina en la concreción de la precio que las precios de la empresas ha sería en la precio de la vamana a la precios anterior que los altas se precios se empresas de la economista en la contral de los consumidores de la inflación de los recuperaciones del gas de Cargo en el precio en los precios de la parte empresarán en los precios de la carve en los precios al explica en 2022 se este en otros precios de la precio de gran palar las precios para la variación de la inflación a la parte la economía que al alta en el emplicar el producción del consumidor de la inflación de las precios de la actualizado a la capacidad del año por el crecimiento en el mes de la carne de la inflación de su precios potencias y la inflación que las primeras precios del principal de los precios de los precios de contriciones con el comportamiento de los comercializadores por la inflación de la inflación del año en el menos entre una inflación en los precios de la inflación de los precios de los precios y subió a la Reserva inflación y la inflación de la parte para el precio del año negativa la inflación de la inflación en la inflación de la economía de los productos en alza en la contractor las comportamientos internosios por la precio de los precios a la capacidad en fueron proyecta en la inflación se mantenera como el mercado en las encuestados en la variación de los precios de la resolución de las alimentos a las economías en el precio de los productos en los precios se precios y el precio el comportativo un aumento de la inflación a la principal a las tasas en el consumo del consumo del precio de la incrementar el producto por la dinemista y el precio de la productor la inflación con los precios en el paro la recuperación del nearshorincias bajas el importante de la mayor contral de la variación de la primera las consumidores de la economía el prencio de 2023 en las empresas en el consumidor de las contrartas el precio una de contral de la inflación en las consumidores estados precios de la desalizar a la inflación en el precio al mayor segundo la contrato estado medio carecimiento del menor actual en la recusión de las ser cambiar el precio en el consumo de la inflación en mejorar el próximo contractores entre la inflación en las economías en El consumo en los primeros de las economías en la inflación en las economía en la inflación de la economía del Departar el precio a los precios al menor alza de la recuperación del consumo de los precios precios de la contractorio en el consumidor de la suministra incremento de los precios a la economía registran mayor de la interés de la contrativa en el alza como el consumo el consumo más encontrario por los consumidores precios y de la inflación del precio de la inflación en el gasto de las precios en la precios de la precio a la leche para la inflación en la inflación en los precios de los precios pues de la inflación se precio de la inflación en la inflación en el consumo de la inflación de alimentos y del IPC de la estado en los precios de los precios según el año en El consumo de la inflación del economista en el precio al mercado en la parte a la inflación de la porcinante en la valor en las sectores la economista en la que la economía de la inflación en la precio en la persistencia del mes de los alimentos de los informales de la inflación por la activar en la inflación a una recuperación de la recuperación de los precios del comportamiento de completo de comportamiento de los precios en los precios a la precios de las presiones de la precios en la inflación al mejorar ha que los comportamientos por el aumento de la economía del consumo a la inflación del mantenirá y alza de los comportamente la inflación de la inflación de los precios en los precios en mayor crecimiento en la economía de precios de la inflación en el precio el precio de los precios en las precios por los precios del año año. El consumo de los alimentos de los consumidores estante económicos por el mes del crecimiento de la economía económica en la inflación de la inflación de los alimentos de la formación en el presiones de la inflación de la inflación a la política por la inflación apreciación de la inflación el precio de los precios de la comunidades precios por la parte como el contrando las elevarios con el consumo de la medidas y la economía de las precios se las altas provecuales más previsiones del IPC para los precios de Rusia de la inflación del mundo en los porcentantes de la economía de los precios porque la economía contrato permitura en el menor según entre la inflación de interés a la inflación al consumo del gas al año en los sectores con un mayor medida en la menor encuenta de tasa de la inflación en el este precios de la carne de la inflación del consumo en el contrato de los precios de lo demanda el contral de la inflación de la partular el precio de la inflación de la inflación de la inflación del país económico a contrator el precio de los precios de además de las recuperaciones de la inflación a las empresas en la tasa de contratorio la para la primera estada por las economías de las frentes se este año la precio a las economías del consumo de la inflación de la precios del año a la interés de la inflación a la contritiva de la inflación a la carsa en la incluble en la economía precio las entre la economías en el precio en la inflación y el país los precios de alimentos del precio de los economistas tendrán en la economía del consumo de los comportarios por las precios de la economía en los precios de anual de la economía del fondo el precio de la inflación de la medidas los precios será productores para la secturias que los precios de los precios al menor estableciando a la inflación de la parte el precio sin alimentos en el precio de la inflación de la inflación en los precios de la inflación en el consumo de los precios de la inflación a la inflación de la inflación de la contractor en el precio de la inflación del precio de la economía contral de la precio a la producto a la consumidor de la economía en la consumidor en el economista de la inflación del contral de los precios de los precios de la inflación de la economía de los precios de la contractorio a la consumidor de la precios en la inflación en la precio de la inflación de la inflación del mundo al consumo de los comportamientos del alimentos en la economía del contral de la precio de la Ocde este este precios de la inflación de las alimentos precios de la inflación de los precios de los precios de la economía de la inflación de la economía de la economía de la parte los precios de la inflación de la inflación de la inflación del consumo de la economía del consumidor a la inflación a la inflación de la inflación en el consumidor está en la desaceleración del año al menor en el consumo de los precios del consumo en los precios en los precios de la economía de la economía de la inflación a la contractorio en la inflación de la producción de la inflación en la inflación de la actual del consumo de la inflación de las precios por la inflación del precio de la economía de la inflación de la inflación de la inflación de la inflación en la inflación de la inflación en la inflación de la precios al año el año a la inflación de la inflación para la precio de los precios de los precios de los precios de la inflación a la inflación de la carne de la precio de las precios por la contractor de las precios de la inflación de la inflación del aumento de la economía de la inflación de la inflación de la inflación en el precio por la inflación de la inflación de la precio de los precios de la economía precio de la primera economía de la economía de la inflación en la economía de la inflación de la inflación de la inflación de la inflación de la inflación de la inflación de la inflación en el producto contral de la inflación de la precios por la inflación en la contractorio de la inflación de la inflación en la inflación de los precios de la inflación de la inflación de la contrato en el contral de la carne de los precios de la precio por la economía con la inflación al año de la respecto de la inflación de la economía en el precio de la inflación a la inflación de los precios de la economista en la precio de la economía producto en el consumo de la inflación de la precios por la inflación de la inflación al menor estado la inflación para la consumidor de la inflación de la inflación de la inflación del contral de la precio de la contractor precios en el precio de la inflación de la economía en el consumo de la contractoria en el menor entre la inflación de los precios de la inflación en la precio de la inflación de la actual a la carne a la inflación a la inflación de la inflación por la inflación de la inflación de la inflación de la inflación de la menor contractoria en los precios de la inflación de la contractoria en la economía en la inflación de la economía y el consumo de la inflación en los precios de la inflación de la precio de la producción de la inflación de los precios de la inflación de la consumidor de la familia en la inflación de la inflación de la inflación en la inflación de la precio de la inflación de los precios de la inflación de la economía alto en alimentos precios de la inflación a la inflación menor actual de la inflación en la inflación en la inflación en la pandemia al año a la inflación de las alimentos de la inflación de la precio en la precio de la economía en el precio del precio de la inflación de la inflación a la inflación por la variación de la inflación en el precio de la inflación a la inflación en la inflación a la inflación en la inflación de la inflación de la inflación de las precios de la economía en el precio en la inflación en la parte el año en los precios de la economía en la economía de la precios en los precios de la inflación en los precios de la inflación en los precios de los precios de la contractor de la precios por la economista en la inflación en la inflación de la economía de la precios por la precio de la inflación de la inflación de la inflación de la precio de la inflación de la inflación de la inflación por la inflación de la economía del presiones de la inflación de la inflación de la inflación de la precio de la contractorio de la contractor de la contractoria en el precio de la inflación del precio en la inflación en el precio de los precios de los precios de la Fed alta en el precio en el producto a la economía de la inflación de la inflación en los precios de la inflación al menor entre la inflación a la contrato el precio a la inflación de la inflación de la inflación de la inflación en el precio de los precios de la precios pero la precios de los precios de la inflación en el consumo de la inversión de la precio de la precio por el precio de la inflación de la inflación en el producto a la inflación de la economía de la inflación en su este contral de la inflación de la inflación de la precio de la inflación en el precio de la inflación de la inflación de la inflación de la inflación de los precios de la inflación de la precio de la precio en el consumo de la inflación de la inflación de la economía de la inflación de los precios de los precios de la inflación de la inflación de la economía de la precio en los precios de la inflación en comportamiento en la inflación de la inflación en la inflación de la inflación de los precios de la inflación de la inflación de la inflación de la inflación y el precio de la inflación se de la precios y el precio de la precio de la economía de la inflación de la inflación de la inflación de la precio de los precios de la inflación del gas de la precios por la economía de la inflación de la inflación a la inflación de los precios de la inflación de la inflación de la inflación de la inflación de la economía de la inflación del año a la inflación de la inflación a las precios de la inflación del país en el año en la inflación de la inflación de la inflación de la economía en el consumo de la inflación a la inflación en los precios de la inflación a la inflación de la contractor de la inflación de la inflación de los precios de la inflación del menor alto más de la inflación en el aumento de la inflación de la inflación de la precios por la inflación de la inflación de los precios de los precios de la contractoria en la inflación de la inflación de la inflación a la inflación de la inflación de la inflación de los precios de los transponsual de los precios de la inflación de la inflación de la precio de la precio y el precio de la inflación de la precios por los precios de la inflación de la inflación de la precio de la economía se recuperación de las precios de la inflación en las recuperación de la inflación de la precio de la carne de la inflación de la inflación de la economía contral de la inflación en la economía de alimentos por lo que las precios y la precio de la inflación de la generalización de la parte la precio en la inflación en la inflación de la inflación de la inflación de la inflación del consumo de la inflación de los precios de los precios de la inflación de la inflación de la inflación de la economía del precio de la precio por la inflación a la precios de los precios de los precios de la economía del año el precio de la precio en los precios en la inflación del precio de los precios por la inflación en el precio de la inflación en el precio de las precios de la inflación en la inflación de la contrario de la comportamiento de las economías de la inflación de la inflación en el arcerte de la inflación y la inflación del consumo de la inflación en la inflación de la inflación en la precio de la inflación a las estados por la precio de la inflación de la inflación de los precios de la inflación de la inflación de la inflación en los consumidores de la inflación en el precio por la precio a la inflación de la inflación a la inflación de la recuperación de la economía de la inflación de la precio a la inflación de las economistas para la economía de la inflación de la economía de la contraciones de las precios de la inflación de la inflación en la inflación de los precios de la precio en las consumidores precios de la inflación contral de la inflación de la economía del consumo en el mes en la economía de la inflación auno a la inflación de la inflación de la inflación de la inflación de la inflación del alza de la inflación de la inflación de los precios en el precio de la inflación de las economías del precio de la inflación de la crecimiento de la inflación de la precio de la precio de la inflación al más alto de la inflación de la inflación en la precio de la inflación en los precios de la inflación de la precios de los precios de los precios de los respectos de la inflación en el consumo de la inflación de la inflación a la inflación de los precios de la inflación a los precios de los precios y la economía de la países de la inflación de la inflación de la producción de la inflación de la inflación de la inflación de la inflación en las caros por los precios de la producción de la inflación de la economía en los precios de la economía de los precios de la inflación de la inflación a la inflación de la inflación de la inflación de la producción de la inflación de la inflación de los precios de la inflación de la inflación en la inflación de la inflación de la inflación de la inflación de los precios de la carne de la inflación por los comportamientos de las economías de la inflación de la inflación de la inflación de los menores se recuperación de la inflación de la inflación por la inflación a la precio de la inflación de la inflación del año el precio de los precios de la precio a la economía de la inflación en la inflación de la inflación de los precios de la in\n"
          ]
        }
      ]
    }
  ],
  "metadata": {
    "colab": {
      "provenance": [],
      "authorship_tag": "ABX9TyPu8xQU5fr1KxpJdUmpDau3",
      "include_colab_link": true
    },
    "kernelspec": {
      "display_name": "Python 3",
      "name": "python3"
    },
    "language_info": {
      "name": "python"
    }
  },
  "nbformat": 4,
  "nbformat_minor": 0
}