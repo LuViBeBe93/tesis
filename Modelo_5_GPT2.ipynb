{
  "nbformat": 4,
  "nbformat_minor": 0,
  "metadata": {
    "colab": {
      "provenance": [],
      "include_colab_link": true
    },
    "kernelspec": {
      "name": "python3",
      "display_name": "Python 3"
    },
    "language_info": {
      "name": "python"
    }
  },
  "cells": [
    {
      "cell_type": "markdown",
      "metadata": {
        "id": "view-in-github",
        "colab_type": "text"
      },
      "source": [
        "<a href=\"https://colab.research.google.com/github/LuViBeBe93/tesis/blob/main/Modelo_5_GPT2.ipynb\" target=\"_parent\"><img src=\"https://colab.research.google.com/assets/colab-badge.svg\" alt=\"Open In Colab\"/></a>"
      ]
    },
    {
      "cell_type": "code",
      "execution_count": 6,
      "metadata": {
        "id": "RUpv3KqLQlai",
        "colab": {
          "base_uri": "https://localhost:8080/"
        },
        "outputId": "1d833f28-6a6b-49c3-db88-0d15820d442f"
      },
      "outputs": [
        {
          "output_type": "stream",
          "name": "stdout",
          "text": [
            "Python: 3.10.12\n",
            "transformers: 4.44.2\n",
            "pytorch: 2.4.1+cu121\n"
          ]
        }
      ],
      "source": [
        "import warnings\n",
        "warnings.simplefilter(action='ignore', category=FutureWarning)\n",
        "\n",
        "# Las librerías necesarias para poder ejecutar el ejemplo que te presentamos son transformers, y pytorch.\n",
        "\n",
        "from transformers import AutoTokenizer, AutoModelWithLMHead, set_seed\n",
        "from torch.cuda import set_device, current_device\n",
        "#from fastai.text.all import *\n",
        "\n",
        "import platform\n",
        "from importlib_metadata import version\n",
        "print(\"Python:\", platform.python_version())\n",
        "print(\"transformers:\", version(\"transformers\"))\n",
        "print('pytorch:', version('torch'))"
      ]
    },
    {
      "cell_type": "code",
      "source": [
        "tokenizer = AutoTokenizer.from_pretrained(\"datificate/gpt2-small-spanish\")\n",
        "model = AutoModelWithLMHead.from_pretrained(\"datificate/gpt2-small-spanish\")\n",
        "set_seed(1212) #para asegurar repetibilidad de los ejemplos"
      ],
      "metadata": {
        "id": "9eQ2JPINQwLc"
      },
      "execution_count": 7,
      "outputs": []
    },
    {
      "cell_type": "code",
      "source": [
        "texto_unicornios = f'En Colombia el dólar cerró abajo de $4.200 tras los datos de inflación subyacente en Estados Unidos. Esta cifra se puede explicar por '\n",
        "\n",
        "largo_maximo = 250\n",
        "largo_minimo = 200"
      ],
      "metadata": {
        "id": "JbzVtgi9QxB0"
      },
      "execution_count": 8,
      "outputs": []
    },
    {
      "cell_type": "code",
      "source": [
        "#input_ids = tokenizer.encode(texto_unicornios, return_tensors='pt').to('cuda')\n",
        "input_ids = tokenizer.encode(texto_unicornios, return_tensors='pt').to('cpu')\n",
        "\n",
        "texto_reconstruido = tokenizer.decode(tokenizer.encode(texto_unicornios))\n",
        "\n",
        "print('Identificadores de los tokens:\\n', input_ids)\n",
        "print('\\nTexto reconstruido:\\n', texto_reconstruido)"
      ],
      "metadata": {
        "id": "hfvG2DyOQ2Mk",
        "colab": {
          "base_uri": "https://localhost:8080/"
        },
        "outputId": "cc0fa58e-8ab2-4c14-b9fc-b314d4ea8264"
      },
      "execution_count": 9,
      "outputs": [
        {
          "output_type": "stream",
          "name": "stdout",
          "text": [
            "Identificadores de los tokens:\n",
            " tensor([[  507,  3290,   284, 22250, 12198,  6977,   258,  4410,    20,    14,\n",
            "          2134,   853,   312,  2813,   258, 17913, 30811,   278,  1169,  1195,\n",
            "            14,  1521,  9883,   306,   938, 10681,   333,   221]])\n",
            "\n",
            "Texto reconstruido:\n",
            " En Colombia el dólar cerró abajo de $4.200 tras los datos de inflación subyacente en Estados Unidos. Esta cifra se puede explicar por \n"
          ]
        }
      ]
    },
    {
      "cell_type": "code",
      "source": [
        "%%time\n",
        "#set top_k = 40 and num_return_sequences = 3\n",
        "sample_outputs = model.generate(input_ids, pad_token_id=0, #50256,\n",
        "                                   do_sample=True,\n",
        "                                   max_length=largo_maximo,\n",
        "                                   min_length=largo_minimo,\n",
        "                                   top_k=40,\n",
        "                                   num_return_sequences=3)\n",
        "\n",
        "for i, sample_output in enumerate(sample_outputs):\n",
        "    print(\">> Texto Generado {}\\n\\n{}\".format(i+1, tokenizer.decode(sample_output.tolist())))\n",
        "    print('\\n---')"
      ],
      "metadata": {
        "id": "EaAmXI2sQ4v0",
        "colab": {
          "base_uri": "https://localhost:8080/"
        },
        "outputId": "c0b145d1-9d90-4fc9-cf67-24a5bee6738b"
      },
      "execution_count": 10,
      "outputs": [
        {
          "output_type": "stream",
          "name": "stdout",
          "text": [
            ">> Texto Generado 1\n",
            "\n",
            "En Colombia el dólar cerró abajo de $4.200 tras los datos de inflación subyacente en Estados Unidos. Esta cifra se puede explicar por \n",
            "la tendencia de la economía a tomar un ritmo de crecimiento, el volumen de mercado, y la competencia entre otras áreas de actividad productiva. \n",
            "El sector del turismo tiene una tendencia a diversificarse y a la proliferación de nuevos servicios. La industria cinematográfica ha avanzado considerablemente en Colombia, con varias películas en la actualidad como: \"Las chicas del infierno\" en 2016, protagonizada por María José Suárez, \"La venganza es un infierno\" en 2018. El turismo es una de las subproducciones de mayor potencial en Colombia. Según la revista CRC, fue la segunda inversión privada más rentable de Colombia en el 2010, detrás de Venezuela. La inversión privada, de hasta $35.2 mil millones, fue un 40% superior a la inversión pública de Estados Unidos en 2010. \n",
            "La bolsa del Caribe, la principal economía mundial, produjo, según el Instituto de Estadística y Censos de América Latina (INEC), una bolsa anual basada en 100 de las 100 naciones iberoamericanas. De acuerdo con cifras del Banco Mundial, en su edición en el 2005, que estableció la media de la bolsa en el\n",
            "\n",
            "---\n",
            ">> Texto Generado 2\n",
            "\n",
            "En Colombia el dólar cerró abajo de $4.200 tras los datos de inflación subyacente en Estados Unidos. Esta cifra se puede explicar por \n",
            "que la oferta de alimentos puede ser menos económica del que se ha hecho en los últimos años. Debido a que la oferta de alimentos en el sector agrícola, la demanda, especialmente la provisión de alimentos frescos y de productos en polvo y de energía y agua, se considera la mayor oferta disponible en todo el mundo y, por lo tanto, está muy bien representada en la cantidad de alimentos hechos. Esta oferta de alimentos se ha convertido en un área de producción de carne-cerceado para los turistas (en particular estadounidenses con mayor demanda de combustible que en otros países del continente), con un alto índice de oferta y alto precio de productos de comida.\n",
            "\n",
            "Algunas empresas han promovido estas estrategias al mismo tiempo que han creado más alimentos baratos (por ejemplo, una compañía estadounidense de comida rápida es llamada Pro Foods y más recientemente una fábrica de comidas rápidas es llamada Starbucks) y también han tenido éxito en las empresas que crearon más alimentos. Así, se han diseñado los productos más fáciles de preparar para todos, que a menudo combinan ingredientes que se pueden utilizar durante un período de tiempo y se obtienen rendimientos más\n",
            "\n",
            "---\n",
            ">> Texto Generado 3\n",
            "\n",
            "En Colombia el dólar cerró abajo de $4.200 tras los datos de inflación subyacente en Estados Unidos. Esta cifra se puede explicar por \n",
            "formula_36 para el dólar más utilizado en el mundo en el inicio del periodo de inflación en Estados Unidos.\n",
            "\n",
            "El valor más bajo del dólar ha sido de $3.870 en los últimos 30 años.\n",
            "\n",
            "El dólar colombiano tiene tres tipos básicos de tipos:\n",
            "\n",
            "Hay 5 tipos básicos básicos básicos básicos de moneda en Colombia:\n",
            "\n",
            "Existen 5 tipos básicos básicos básicos básicas que existen en todos los países del mundo, con cada uno de ellos los factores de interés:\n",
            "\n",
            "El Banco Central de Colombia (BCC) emitió el siguiente comunicado al gobierno de Colombia:\n",
            "\n",
            "El 7 de septiembre de 2019 se publicó que el Banco Central (BCC) emitirá el siguiente comunicado al gobierno de Colombia:\n",
            "\n",
            "El 15 de julio de 2019 el Banco Central emite: \n",
            "\n",
            "\n",
            "\n",
            "Los mercados internacionales son los únicos mercados de moneda y las denominaciones con los tipos básicos básicas básicos de sus monedas son:\n",
            "Entre las reservas que se están usando están:Amparo (en latín \"Ampĕo\") es el nombre del pueblo de Amparo, en la\n",
            "\n",
            "---\n",
            "CPU times: user 22.4 s, sys: 72.1 ms, total: 22.5 s\n",
            "Wall time: 22.6 s\n"
          ]
        }
      ]
    }
  ]
}